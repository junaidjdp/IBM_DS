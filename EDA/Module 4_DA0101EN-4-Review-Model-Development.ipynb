{
  "metadata": {
    "kernelspec": {
      "name": "python",
      "display_name": "Pyolite",
      "language": "python"
    },
    "language_info": {
      "codemirror_mode": {
        "name": "python",
        "version": 3
      },
      "file_extension": ".py",
      "mimetype": "text/x-python",
      "name": "python",
      "nbconvert_exporter": "python",
      "pygments_lexer": "ipython3",
      "version": "3.8"
    },
    "colab": {
      "provenance": []
    }
  },
  "nbformat_minor": 0,
  "nbformat": 4,
  "cells": [
    {
      "cell_type": "markdown",
      "source": [
        "<p style=\"text-align:center\">\n",
        "    <a href=\"https://skills.network/?utm_medium=Exinfluencer&utm_source=Exinfluencer&utm_content=000026UJ&utm_term=10006555&utm_id=NA-SkillsNetwork-Channel-SkillsNetworkCoursesIBMDeveloperSkillsNetworkDA0101ENSkillsNetwork20235326-2022-01-01\" target=\"_blank\">\n",
        "    <img src=\"https://cf-courses-data.s3.us.cloud-object-storage.appdomain.cloud/assets/logos/SN_web_lightmode.png\" width=\"200\" alt=\"Skills Network Logo\"  />\n",
        "    </a>\n",
        "</p>\n",
        "\n",
        "# Model Development\n",
        "\n",
        "Estimated time needed: **30** minutes\n",
        "\n",
        "## Objectives\n",
        "\n",
        "After completing this lab you will be able to:\n",
        "\n",
        "*   Develop prediction models\n"
      ],
      "metadata": {
        "id": "gEoNaCVMlnYk"
      }
    },
    {
      "cell_type": "markdown",
      "source": [
        "<p>In this section, we will develop several models that will predict the price of the car using the variables or features. This is just an estimate but should give us an objective idea of how much the car should cost.</p>\n"
      ],
      "metadata": {
        "id": "zbPpLsGrlnYn"
      }
    },
    {
      "cell_type": "markdown",
      "source": [
        "Some questions we want to ask in this module\n",
        "\n",
        "<ul>\n",
        "    <li>Do I know if the dealer is offering fair value for my trade-in?</li>\n",
        "    <li>Do I know if I put a fair value on my car?</li>\n",
        "</ul>\n",
        "<p>In data analytics, we often use <b>Model Development</b> to help us predict future observations from the data we have.</p>\n",
        "\n",
        "<p>A model will help us understand the exact relationship between different variables and how these variables are used to predict the result.</p>\n"
      ],
      "metadata": {
        "id": "Q3mOhmRZlnYo"
      }
    },
    {
      "cell_type": "markdown",
      "source": [
        "<h4>Setup</h4>\n"
      ],
      "metadata": {
        "id": "PSdWmvkvlnYo"
      }
    },
    {
      "cell_type": "markdown",
      "source": [
        "Import libraries:\n"
      ],
      "metadata": {
        "id": "a14b9zk_lnYo"
      }
    },
    {
      "cell_type": "code",
      "source": [
        "#install specific version of libraries used in lab\n",
        "#! mamba install pandas==1.3.3-y\n",
        "#! mamba install numpy=1.21.2-y\n",
        "#! mamba install sklearn=0.20.1-y"
      ],
      "metadata": {
        "id": "1AITI4B9lnYp"
      },
      "execution_count": null,
      "outputs": []
    },
    {
      "cell_type": "code",
      "source": [
        "import pandas as pd\n",
        "import numpy as np\n",
        "import matplotlib.pyplot as plt"
      ],
      "metadata": {
        "id": "bSOJxWTolnYp"
      },
      "execution_count": 1,
      "outputs": []
    },
    {
      "cell_type": "markdown",
      "source": [
        "Load the data and store it in dataframe `df`:\n"
      ],
      "metadata": {
        "id": "yewxhdu-lnYq"
      }
    },
    {
      "cell_type": "markdown",
      "source": [
        "This dataset was hosted on IBM Cloud object. Click <a href=\"https://cocl.us/DA101EN_object_storage?utm_medium=Exinfluencer&utm_source=Exinfluencer&utm_content=000026UJ&utm_term=10006555&utm_id=NA-SkillsNetwork-Channel-SkillsNetworkCoursesIBMDeveloperSkillsNetworkDA0101ENSkillsNetwork20235326-2022-01-01\">HERE</a> for free storage.\n"
      ],
      "metadata": {
        "id": "33YT4naYlnYq"
      }
    },
    {
      "cell_type": "code",
      "source": [
        "# path of data \n",
        "path = 'https://raw.githubusercontent.com/junaidjdp/IBM_DS/main/EDA/automobileEDA.csv?token=GHSAT0AAAAAABZCUATVBQN5AKJP4K7Q6ZQCY5LDH5A'\n",
        "df = pd.read_csv(path)\n",
        "df.head()"
      ],
      "metadata": {
        "id": "lB6kzVwPlnYr",
        "outputId": "1c230d05-3297-4d6b-dbfb-7ba8ea345391",
        "colab": {
          "base_uri": "https://localhost:8080/",
          "height": 366
        }
      },
      "execution_count": 2,
      "outputs": [
        {
          "output_type": "execute_result",
          "data": {
            "text/plain": [
              "   symboling  normalized-losses         make aspiration num-of-doors  \\\n",
              "0          3                122  alfa-romero        std          two   \n",
              "1          3                122  alfa-romero        std          two   \n",
              "2          1                122  alfa-romero        std          two   \n",
              "3          2                164         audi        std         four   \n",
              "4          2                164         audi        std         four   \n",
              "\n",
              "    body-style drive-wheels engine-location  wheel-base    length  ...  \\\n",
              "0  convertible          rwd           front        88.6  0.811148  ...   \n",
              "1  convertible          rwd           front        88.6  0.811148  ...   \n",
              "2    hatchback          rwd           front        94.5  0.822681  ...   \n",
              "3        sedan          fwd           front        99.8  0.848630  ...   \n",
              "4        sedan          4wd           front        99.4  0.848630  ...   \n",
              "\n",
              "   compression-ratio  horsepower  peak-rpm city-mpg highway-mpg    price  \\\n",
              "0                9.0       111.0    5000.0       21          27  13495.0   \n",
              "1                9.0       111.0    5000.0       21          27  16500.0   \n",
              "2                9.0       154.0    5000.0       19          26  16500.0   \n",
              "3               10.0       102.0    5500.0       24          30  13950.0   \n",
              "4                8.0       115.0    5500.0       18          22  17450.0   \n",
              "\n",
              "  city-L/100km  horsepower-binned  diesel  gas  \n",
              "0    11.190476             Medium       0    1  \n",
              "1    11.190476             Medium       0    1  \n",
              "2    12.368421             Medium       0    1  \n",
              "3     9.791667             Medium       0    1  \n",
              "4    13.055556             Medium       0    1  \n",
              "\n",
              "[5 rows x 29 columns]"
            ],
            "text/html": [
              "\n",
              "  <div id=\"df-4c56b433-9b5b-48a7-89f3-d958a2dfc705\">\n",
              "    <div class=\"colab-df-container\">\n",
              "      <div>\n",
              "<style scoped>\n",
              "    .dataframe tbody tr th:only-of-type {\n",
              "        vertical-align: middle;\n",
              "    }\n",
              "\n",
              "    .dataframe tbody tr th {\n",
              "        vertical-align: top;\n",
              "    }\n",
              "\n",
              "    .dataframe thead th {\n",
              "        text-align: right;\n",
              "    }\n",
              "</style>\n",
              "<table border=\"1\" class=\"dataframe\">\n",
              "  <thead>\n",
              "    <tr style=\"text-align: right;\">\n",
              "      <th></th>\n",
              "      <th>symboling</th>\n",
              "      <th>normalized-losses</th>\n",
              "      <th>make</th>\n",
              "      <th>aspiration</th>\n",
              "      <th>num-of-doors</th>\n",
              "      <th>body-style</th>\n",
              "      <th>drive-wheels</th>\n",
              "      <th>engine-location</th>\n",
              "      <th>wheel-base</th>\n",
              "      <th>length</th>\n",
              "      <th>...</th>\n",
              "      <th>compression-ratio</th>\n",
              "      <th>horsepower</th>\n",
              "      <th>peak-rpm</th>\n",
              "      <th>city-mpg</th>\n",
              "      <th>highway-mpg</th>\n",
              "      <th>price</th>\n",
              "      <th>city-L/100km</th>\n",
              "      <th>horsepower-binned</th>\n",
              "      <th>diesel</th>\n",
              "      <th>gas</th>\n",
              "    </tr>\n",
              "  </thead>\n",
              "  <tbody>\n",
              "    <tr>\n",
              "      <th>0</th>\n",
              "      <td>3</td>\n",
              "      <td>122</td>\n",
              "      <td>alfa-romero</td>\n",
              "      <td>std</td>\n",
              "      <td>two</td>\n",
              "      <td>convertible</td>\n",
              "      <td>rwd</td>\n",
              "      <td>front</td>\n",
              "      <td>88.6</td>\n",
              "      <td>0.811148</td>\n",
              "      <td>...</td>\n",
              "      <td>9.0</td>\n",
              "      <td>111.0</td>\n",
              "      <td>5000.0</td>\n",
              "      <td>21</td>\n",
              "      <td>27</td>\n",
              "      <td>13495.0</td>\n",
              "      <td>11.190476</td>\n",
              "      <td>Medium</td>\n",
              "      <td>0</td>\n",
              "      <td>1</td>\n",
              "    </tr>\n",
              "    <tr>\n",
              "      <th>1</th>\n",
              "      <td>3</td>\n",
              "      <td>122</td>\n",
              "      <td>alfa-romero</td>\n",
              "      <td>std</td>\n",
              "      <td>two</td>\n",
              "      <td>convertible</td>\n",
              "      <td>rwd</td>\n",
              "      <td>front</td>\n",
              "      <td>88.6</td>\n",
              "      <td>0.811148</td>\n",
              "      <td>...</td>\n",
              "      <td>9.0</td>\n",
              "      <td>111.0</td>\n",
              "      <td>5000.0</td>\n",
              "      <td>21</td>\n",
              "      <td>27</td>\n",
              "      <td>16500.0</td>\n",
              "      <td>11.190476</td>\n",
              "      <td>Medium</td>\n",
              "      <td>0</td>\n",
              "      <td>1</td>\n",
              "    </tr>\n",
              "    <tr>\n",
              "      <th>2</th>\n",
              "      <td>1</td>\n",
              "      <td>122</td>\n",
              "      <td>alfa-romero</td>\n",
              "      <td>std</td>\n",
              "      <td>two</td>\n",
              "      <td>hatchback</td>\n",
              "      <td>rwd</td>\n",
              "      <td>front</td>\n",
              "      <td>94.5</td>\n",
              "      <td>0.822681</td>\n",
              "      <td>...</td>\n",
              "      <td>9.0</td>\n",
              "      <td>154.0</td>\n",
              "      <td>5000.0</td>\n",
              "      <td>19</td>\n",
              "      <td>26</td>\n",
              "      <td>16500.0</td>\n",
              "      <td>12.368421</td>\n",
              "      <td>Medium</td>\n",
              "      <td>0</td>\n",
              "      <td>1</td>\n",
              "    </tr>\n",
              "    <tr>\n",
              "      <th>3</th>\n",
              "      <td>2</td>\n",
              "      <td>164</td>\n",
              "      <td>audi</td>\n",
              "      <td>std</td>\n",
              "      <td>four</td>\n",
              "      <td>sedan</td>\n",
              "      <td>fwd</td>\n",
              "      <td>front</td>\n",
              "      <td>99.8</td>\n",
              "      <td>0.848630</td>\n",
              "      <td>...</td>\n",
              "      <td>10.0</td>\n",
              "      <td>102.0</td>\n",
              "      <td>5500.0</td>\n",
              "      <td>24</td>\n",
              "      <td>30</td>\n",
              "      <td>13950.0</td>\n",
              "      <td>9.791667</td>\n",
              "      <td>Medium</td>\n",
              "      <td>0</td>\n",
              "      <td>1</td>\n",
              "    </tr>\n",
              "    <tr>\n",
              "      <th>4</th>\n",
              "      <td>2</td>\n",
              "      <td>164</td>\n",
              "      <td>audi</td>\n",
              "      <td>std</td>\n",
              "      <td>four</td>\n",
              "      <td>sedan</td>\n",
              "      <td>4wd</td>\n",
              "      <td>front</td>\n",
              "      <td>99.4</td>\n",
              "      <td>0.848630</td>\n",
              "      <td>...</td>\n",
              "      <td>8.0</td>\n",
              "      <td>115.0</td>\n",
              "      <td>5500.0</td>\n",
              "      <td>18</td>\n",
              "      <td>22</td>\n",
              "      <td>17450.0</td>\n",
              "      <td>13.055556</td>\n",
              "      <td>Medium</td>\n",
              "      <td>0</td>\n",
              "      <td>1</td>\n",
              "    </tr>\n",
              "  </tbody>\n",
              "</table>\n",
              "<p>5 rows × 29 columns</p>\n",
              "</div>\n",
              "      <button class=\"colab-df-convert\" onclick=\"convertToInteractive('df-4c56b433-9b5b-48a7-89f3-d958a2dfc705')\"\n",
              "              title=\"Convert this dataframe to an interactive table.\"\n",
              "              style=\"display:none;\">\n",
              "        \n",
              "  <svg xmlns=\"http://www.w3.org/2000/svg\" height=\"24px\"viewBox=\"0 0 24 24\"\n",
              "       width=\"24px\">\n",
              "    <path d=\"M0 0h24v24H0V0z\" fill=\"none\"/>\n",
              "    <path d=\"M18.56 5.44l.94 2.06.94-2.06 2.06-.94-2.06-.94-.94-2.06-.94 2.06-2.06.94zm-11 1L8.5 8.5l.94-2.06 2.06-.94-2.06-.94L8.5 2.5l-.94 2.06-2.06.94zm10 10l.94 2.06.94-2.06 2.06-.94-2.06-.94-.94-2.06-.94 2.06-2.06.94z\"/><path d=\"M17.41 7.96l-1.37-1.37c-.4-.4-.92-.59-1.43-.59-.52 0-1.04.2-1.43.59L10.3 9.45l-7.72 7.72c-.78.78-.78 2.05 0 2.83L4 21.41c.39.39.9.59 1.41.59.51 0 1.02-.2 1.41-.59l7.78-7.78 2.81-2.81c.8-.78.8-2.07 0-2.86zM5.41 20L4 18.59l7.72-7.72 1.47 1.35L5.41 20z\"/>\n",
              "  </svg>\n",
              "      </button>\n",
              "      \n",
              "  <style>\n",
              "    .colab-df-container {\n",
              "      display:flex;\n",
              "      flex-wrap:wrap;\n",
              "      gap: 12px;\n",
              "    }\n",
              "\n",
              "    .colab-df-convert {\n",
              "      background-color: #E8F0FE;\n",
              "      border: none;\n",
              "      border-radius: 50%;\n",
              "      cursor: pointer;\n",
              "      display: none;\n",
              "      fill: #1967D2;\n",
              "      height: 32px;\n",
              "      padding: 0 0 0 0;\n",
              "      width: 32px;\n",
              "    }\n",
              "\n",
              "    .colab-df-convert:hover {\n",
              "      background-color: #E2EBFA;\n",
              "      box-shadow: 0px 1px 2px rgba(60, 64, 67, 0.3), 0px 1px 3px 1px rgba(60, 64, 67, 0.15);\n",
              "      fill: #174EA6;\n",
              "    }\n",
              "\n",
              "    [theme=dark] .colab-df-convert {\n",
              "      background-color: #3B4455;\n",
              "      fill: #D2E3FC;\n",
              "    }\n",
              "\n",
              "    [theme=dark] .colab-df-convert:hover {\n",
              "      background-color: #434B5C;\n",
              "      box-shadow: 0px 1px 3px 1px rgba(0, 0, 0, 0.15);\n",
              "      filter: drop-shadow(0px 1px 2px rgba(0, 0, 0, 0.3));\n",
              "      fill: #FFFFFF;\n",
              "    }\n",
              "  </style>\n",
              "\n",
              "      <script>\n",
              "        const buttonEl =\n",
              "          document.querySelector('#df-4c56b433-9b5b-48a7-89f3-d958a2dfc705 button.colab-df-convert');\n",
              "        buttonEl.style.display =\n",
              "          google.colab.kernel.accessAllowed ? 'block' : 'none';\n",
              "\n",
              "        async function convertToInteractive(key) {\n",
              "          const element = document.querySelector('#df-4c56b433-9b5b-48a7-89f3-d958a2dfc705');\n",
              "          const dataTable =\n",
              "            await google.colab.kernel.invokeFunction('convertToInteractive',\n",
              "                                                     [key], {});\n",
              "          if (!dataTable) return;\n",
              "\n",
              "          const docLinkHtml = 'Like what you see? Visit the ' +\n",
              "            '<a target=\"_blank\" href=https://colab.research.google.com/notebooks/data_table.ipynb>data table notebook</a>'\n",
              "            + ' to learn more about interactive tables.';\n",
              "          element.innerHTML = '';\n",
              "          dataTable['output_type'] = 'display_data';\n",
              "          await google.colab.output.renderOutput(dataTable, element);\n",
              "          const docLink = document.createElement('div');\n",
              "          docLink.innerHTML = docLinkHtml;\n",
              "          element.appendChild(docLink);\n",
              "        }\n",
              "      </script>\n",
              "    </div>\n",
              "  </div>\n",
              "  "
            ]
          },
          "metadata": {},
          "execution_count": 2
        }
      ]
    },
    {
      "cell_type": "markdown",
      "source": [
        "<h2>1. Linear Regression and Multiple Linear Regression</h2>\n"
      ],
      "metadata": {
        "id": "6cy3-BFdlnYr"
      }
    },
    {
      "cell_type": "markdown",
      "source": [
        "<h4>Linear Regression</h4>\n"
      ],
      "metadata": {
        "id": "OpUUt2ntlnYs"
      }
    },
    {
      "cell_type": "markdown",
      "source": [
        "<p>One example of a Data  Model that we will be using is:</p>\n",
        "<b>Simple Linear Regression</b>\n",
        "\n",
        "<br>\n",
        "<p>Simple Linear Regression is a method to help us understand the relationship between two variables:</p>\n",
        "<ul>\n",
        "    <li>The predictor/independent variable (X)</li>\n",
        "    <li>The response/dependent variable (that we want to predict)(Y)</li>\n",
        "</ul>\n",
        "\n",
        "<p>The result of Linear Regression is a <b>linear function</b> that predicts the response (dependent) variable as a function of the predictor (independent) variable.</p>\n"
      ],
      "metadata": {
        "id": "cwMYBQNklnYs"
      }
    },
    {
      "cell_type": "markdown",
      "source": [
        "$$\n",
        "Y: Response \\ Variable\\\\\\\\\n",
        "X: Predictor \\ Variables\n",
        "$$\n"
      ],
      "metadata": {
        "id": "NsAzwNPNlnYs"
      }
    },
    {
      "cell_type": "markdown",
      "source": [
        "<b>Linear Function</b>\n",
        "$$\n",
        "Yhat = a + b  X\n",
        "$$\n"
      ],
      "metadata": {
        "id": "HjCfjrXVlnYs"
      }
    },
    {
      "cell_type": "markdown",
      "source": [
        "<ul>\n",
        "    <li>a refers to the <b>intercept</b> of the regression line, in other words: the value of Y when X is 0</li>\n",
        "    <li>b refers to the <b>slope</b> of the regression line, in other words: the value with which Y changes when X increases by 1 unit</li>\n",
        "</ul>\n"
      ],
      "metadata": {
        "id": "__JBhgzOlnYs"
      }
    },
    {
      "cell_type": "markdown",
      "source": [
        "<h4>Let's load the modules for linear regression:</h4>\n"
      ],
      "metadata": {
        "id": "LHbN-wDNlnYt"
      }
    },
    {
      "cell_type": "code",
      "source": [
        "from sklearn.linear_model import LinearRegression"
      ],
      "metadata": {
        "id": "PqX-opsLlnYt"
      },
      "execution_count": 3,
      "outputs": []
    },
    {
      "cell_type": "markdown",
      "source": [
        "<h4>Create the linear regression object:</h4>\n"
      ],
      "metadata": {
        "id": "CNf843yqlnYt"
      }
    },
    {
      "cell_type": "code",
      "source": [
        "lm = LinearRegression()\n",
        "lm"
      ],
      "metadata": {
        "id": "cK5_shPqlnYt",
        "outputId": "dc6e7d4a-fd17-4c7b-ab03-bfda743f997d",
        "colab": {
          "base_uri": "https://localhost:8080/"
        }
      },
      "execution_count": 4,
      "outputs": [
        {
          "output_type": "execute_result",
          "data": {
            "text/plain": [
              "LinearRegression()"
            ]
          },
          "metadata": {},
          "execution_count": 4
        }
      ]
    },
    {
      "cell_type": "markdown",
      "source": [
        "<h4>How could \"highway-mpg\" help us predict car price?</h4>\n"
      ],
      "metadata": {
        "id": "U3msMs2TlnYt"
      }
    },
    {
      "cell_type": "markdown",
      "source": [
        "For this example, we want to look at how highway-mpg can help us predict car price.\n",
        "Using simple linear regression, we will create a linear function with \"highway-mpg\" as the predictor variable and the \"price\" as the response variable.\n"
      ],
      "metadata": {
        "id": "bDOeECEOlnYt"
      }
    },
    {
      "cell_type": "code",
      "source": [
        "X = df[['highway-mpg']]\n",
        "Y = df['price']"
      ],
      "metadata": {
        "id": "wxwfO38WlnYt"
      },
      "execution_count": 5,
      "outputs": []
    },
    {
      "cell_type": "markdown",
      "source": [
        "Fit the linear model using highway-mpg:\n"
      ],
      "metadata": {
        "id": "Sg2CnFCwlnYu"
      }
    },
    {
      "cell_type": "code",
      "source": [
        "lm.fit(X,Y)"
      ],
      "metadata": {
        "id": "w7QEssP7lnYu",
        "outputId": "d273f7c4-a838-4420-eb52-661d8e4f0419",
        "colab": {
          "base_uri": "https://localhost:8080/"
        }
      },
      "execution_count": 6,
      "outputs": [
        {
          "output_type": "execute_result",
          "data": {
            "text/plain": [
              "LinearRegression()"
            ]
          },
          "metadata": {},
          "execution_count": 6
        }
      ]
    },
    {
      "cell_type": "markdown",
      "source": [
        "We can output a prediction:\n"
      ],
      "metadata": {
        "id": "GiMNhvjklnYu"
      }
    },
    {
      "cell_type": "code",
      "source": [
        "Yhat=lm.predict(X)\n",
        "Yhat[0:5]   "
      ],
      "metadata": {
        "id": "fLijCfwrlnYu",
        "outputId": "2e51e035-bab3-45ee-d0a1-d8dc124f3718",
        "colab": {
          "base_uri": "https://localhost:8080/"
        }
      },
      "execution_count": 7,
      "outputs": [
        {
          "output_type": "execute_result",
          "data": {
            "text/plain": [
              "array([16236.50464347, 16236.50464347, 17058.23802179, 13771.3045085 ,\n",
              "       20345.17153508])"
            ]
          },
          "metadata": {},
          "execution_count": 7
        }
      ]
    },
    {
      "cell_type": "markdown",
      "source": [
        "<h4>What is the value of the intercept (a)?</h4>\n"
      ],
      "metadata": {
        "id": "dMY1cCKPlnYu"
      }
    },
    {
      "cell_type": "code",
      "source": [
        "lm.intercept_"
      ],
      "metadata": {
        "id": "Ou_jRPvIlnYu",
        "outputId": "78c7d0b5-5684-4381-f9ee-9fe55c5dcc78",
        "colab": {
          "base_uri": "https://localhost:8080/"
        }
      },
      "execution_count": 8,
      "outputs": [
        {
          "output_type": "execute_result",
          "data": {
            "text/plain": [
              "38423.3058581574"
            ]
          },
          "metadata": {},
          "execution_count": 8
        }
      ]
    },
    {
      "cell_type": "markdown",
      "source": [
        "<h4>What is the value of the slope (b)?</h4>\n"
      ],
      "metadata": {
        "id": "bfbBAbmIlnYu"
      }
    },
    {
      "cell_type": "code",
      "source": [
        "lm.coef_"
      ],
      "metadata": {
        "scrolled": true,
        "id": "MkCnVbtElnYu",
        "outputId": "954f0ba1-3cb4-49d0-bea9-54b294c843d0",
        "colab": {
          "base_uri": "https://localhost:8080/"
        }
      },
      "execution_count": 9,
      "outputs": [
        {
          "output_type": "execute_result",
          "data": {
            "text/plain": [
              "array([-821.73337832])"
            ]
          },
          "metadata": {},
          "execution_count": 9
        }
      ]
    },
    {
      "cell_type": "markdown",
      "source": [
        "<h3>What is the final estimated linear model we get?</h3>\n"
      ],
      "metadata": {
        "id": "X-zPWdpTlnYu"
      }
    },
    {
      "cell_type": "markdown",
      "source": [
        "As we saw above, we should get a final linear model with the structure:\n"
      ],
      "metadata": {
        "id": "9TN-Z3xjlnYv"
      }
    },
    {
      "cell_type": "markdown",
      "source": [
        "$$\n",
        "Yhat = a + b  X\n",
        "$$\n"
      ],
      "metadata": {
        "id": "jeTVlpa_lnYv"
      }
    },
    {
      "cell_type": "markdown",
      "source": [
        "Plugging in the actual values we get:\n"
      ],
      "metadata": {
        "id": "l2nHIHZilnYv"
      }
    },
    {
      "cell_type": "markdown",
      "source": [
        "<b>Price</b> = 38423.31 - 821.73 x <b>highway-mpg</b>\n"
      ],
      "metadata": {
        "id": "7RryvUQflnYv"
      }
    },
    {
      "cell_type": "markdown",
      "source": [
        "<div class=\"alert alert-danger alertdanger\" style=\"margin-top: 20px\">\n",
        "<h1>Question #1 a): </h1>\n",
        "\n",
        "<b>Create a linear regression object called \"lm1\".</b>\n",
        "\n",
        "</div>\n"
      ],
      "metadata": {
        "id": "_AXDQ8IjlnYv"
      }
    },
    {
      "cell_type": "code",
      "source": [
        "# Write your code below and press Shift+Enter to execute \n",
        "lm1 = LinearRegression()"
      ],
      "metadata": {
        "id": "STxvUvU-lnYv"
      },
      "execution_count": 10,
      "outputs": []
    },
    {
      "cell_type": "markdown",
      "source": [
        "<details><summary>Click here for the solution</summary>\n",
        "\n",
        "```python\n",
        "lm1 = LinearRegression()\n",
        "lm1\n",
        "```\n",
        "\n",
        "</details>\n"
      ],
      "metadata": {
        "id": "jVew0Ig8lnYv"
      }
    },
    {
      "cell_type": "markdown",
      "source": [
        "<div class=\"alert alert-danger alertdanger\" style=\"margin-top: 20px\">\n",
        "<h1> Question #1 b): </h1>\n",
        "\n",
        "<b>Train the model using \"engine-size\" as the independent variable and \"price\" as the dependent variable?</b>\n",
        "\n",
        "</div>\n"
      ],
      "metadata": {
        "id": "D9T1-0NnlnYv"
      }
    },
    {
      "cell_type": "code",
      "source": [
        "# Write your code below and press Shift+Enter to execute \n",
        "lm1.fit(df[['engine-size']],df[['price']])"
      ],
      "metadata": {
        "id": "G93ayzSLlnYv",
        "outputId": "ea49421e-5a00-4753-9c23-feee84cd6916",
        "colab": {
          "base_uri": "https://localhost:8080/"
        }
      },
      "execution_count": 11,
      "outputs": [
        {
          "output_type": "execute_result",
          "data": {
            "text/plain": [
              "LinearRegression()"
            ]
          },
          "metadata": {},
          "execution_count": 11
        }
      ]
    },
    {
      "cell_type": "markdown",
      "source": [
        "<details><summary>Click here for the solution</summary>\n",
        "\n",
        "```python\n",
        "lm1.fit(df[['engine-size']], df[['price']])\n",
        "lm1\n",
        "```\n",
        "\n",
        "</details>\n"
      ],
      "metadata": {
        "id": "3rtb3DWVlnYv"
      }
    },
    {
      "cell_type": "markdown",
      "source": [
        "<div class=\"alert alert-danger alertdanger\" style=\"margin-top: 20px\">\n",
        "<h1>Question #1 c):</h1>\n",
        "\n",
        "<b>Find the slope and intercept of the model.</b>\n",
        "\n",
        "</div>\n"
      ],
      "metadata": {
        "id": "771SNFH8lnYv"
      }
    },
    {
      "cell_type": "markdown",
      "source": [
        "<h4>Slope</h4>\n"
      ],
      "metadata": {
        "id": "iCpwk7tBlnYw"
      }
    },
    {
      "cell_type": "code",
      "source": [
        "# Write your code below and press Shift+Enter to execute \n",
        "lm1.coef_"
      ],
      "metadata": {
        "id": "MgeASQ5ilnYw",
        "outputId": "bcf56a47-363c-4879-dbdc-a3f29368a6c5",
        "colab": {
          "base_uri": "https://localhost:8080/"
        }
      },
      "execution_count": 13,
      "outputs": [
        {
          "output_type": "execute_result",
          "data": {
            "text/plain": [
              "array([[166.86001569]])"
            ]
          },
          "metadata": {},
          "execution_count": 13
        }
      ]
    },
    {
      "cell_type": "markdown",
      "source": [
        "<h4>Intercept</h4>\n"
      ],
      "metadata": {
        "id": "dG7sGEqglnYw"
      }
    },
    {
      "cell_type": "code",
      "source": [
        "# Write your code below and press Shift+Enter to execute \n",
        "lm1.intercept_"
      ],
      "metadata": {
        "id": "R5ByjE20lnYw",
        "outputId": "58aae3ae-b727-4ae9-c780-c889bf126994",
        "colab": {
          "base_uri": "https://localhost:8080/"
        }
      },
      "execution_count": 17,
      "outputs": [
        {
          "output_type": "execute_result",
          "data": {
            "text/plain": [
              "array([-7963.33890628])"
            ]
          },
          "metadata": {},
          "execution_count": 17
        }
      ]
    },
    {
      "cell_type": "markdown",
      "source": [
        "<details><summary>Click here for the solution</summary>\n",
        "\n",
        "```python\n",
        "# Slope \n",
        "lm1.coef_\n",
        "\n",
        "# Intercept\n",
        "lm1.intercept_\n",
        "```\n",
        "\n",
        "</details>\n"
      ],
      "metadata": {
        "id": "iLMYwHIWlnYw"
      }
    },
    {
      "cell_type": "markdown",
      "source": [
        "<div class=\"alert alert-danger alertdanger\" style=\"margin-top: 20px\">\n",
        "<h1>Question #1 d): </h1>\n",
        "\n",
        "<b>What is the equation of the predicted line? You can use x and yhat or \"engine-size\" or \"price\".</b>\n",
        "\n",
        "</div>\n"
      ],
      "metadata": {
        "id": "6G0FxWIRlnYw"
      }
    },
    {
      "cell_type": "markdown",
      "source": [
        "Write your code below and press Shift+Enter to execute \n",
        "\n",
        "Yhat=-7963.34 + 166.86*X\n",
        "\n",
        "Price=-7963.34 + 166.86*engine-size"
      ],
      "metadata": {
        "id": "-xny3ZN2YflF"
      }
    },
    {
      "cell_type": "markdown",
      "source": [
        "<details><summary>Click here for the solution</summary>\n",
        "\n",
        "```python\n",
        "# using X and Y  \n",
        "Yhat=-7963.34 + 166.86*X\n",
        "\n",
        "Price=-7963.34 + 166.86*engine-size\n",
        "\n",
        "```\n",
        "\n",
        "</details>\n"
      ],
      "metadata": {
        "id": "-JoV0TpJlnYw"
      }
    },
    {
      "cell_type": "markdown",
      "source": [
        "<h4>Multiple Linear Regression</h4>\n"
      ],
      "metadata": {
        "id": "zPnEmRHylnYw"
      }
    },
    {
      "cell_type": "markdown",
      "source": [
        "<p>What if we want to predict car price using more than one variable?</p>\n",
        "\n",
        "<p>If we want to use more variables in our model to predict car price, we can use <b>Multiple Linear Regression</b>.\n",
        "Multiple Linear Regression is very similar to Simple Linear Regression, but this method is used to explain the relationship between one continuous response (dependent) variable and <b>two or more</b> predictor (independent) variables.\n",
        "Most of the real-world regression models involve multiple predictors. We will illustrate the structure by using four predictor variables, but these results can generalize to any integer:</p>\n"
      ],
      "metadata": {
        "id": "Ry1a5nCDlnYw"
      }
    },
    {
      "cell_type": "markdown",
      "source": [
        "$$\n",
        "Y: Response \\ Variable\\\\\\\\\n",
        "X\\_1 :Predictor\\ Variable \\ 1\\\\\\\\\n",
        "X\\_2: Predictor\\ Variable \\ 2\\\\\\\\\n",
        "X\\_3: Predictor\\ Variable \\ 3\\\\\\\\\n",
        "X\\_4: Predictor\\ Variable \\ 4\\\\\\\\\n",
        "$$\n"
      ],
      "metadata": {
        "id": "lzoTcJkOlnYx"
      }
    },
    {
      "cell_type": "markdown",
      "source": [
        "$$\n",
        "a: intercept\\\\\\\\\n",
        "b\\_1 :coefficients \\ of\\ Variable \\ 1\\\\\\\\\n",
        "b\\_2: coefficients \\ of\\ Variable \\ 2\\\\\\\\\n",
        "b\\_3: coefficients \\ of\\ Variable \\ 3\\\\\\\\\n",
        "b\\_4: coefficients \\ of\\ Variable \\ 4\\\\\\\\\n",
        "$$\n"
      ],
      "metadata": {
        "id": "FHVCpiETlnYx"
      }
    },
    {
      "cell_type": "markdown",
      "source": [
        "The equation is given by:\n"
      ],
      "metadata": {
        "id": "QFsxOoTflnYx"
      }
    },
    {
      "cell_type": "markdown",
      "source": [
        "$$\n",
        "Yhat = a + b\\_1 X\\_1 + b\\_2 X\\_2 + b\\_3 X\\_3 + b\\_4 X\\_4\n",
        "$$\n"
      ],
      "metadata": {
        "id": "44VwSwQvlnYx"
      }
    },
    {
      "cell_type": "markdown",
      "source": [
        "<p>From the previous section  we know that other good predictors of price could be:</p>\n",
        "<ul>\n",
        "    <li>Horsepower</li>\n",
        "    <li>Curb-weight</li>\n",
        "    <li>Engine-size</li>\n",
        "    <li>Highway-mpg</li>\n",
        "</ul>\n",
        "Let's develop a model using these variables as the predictor variables.\n"
      ],
      "metadata": {
        "id": "F8R2GK61lnYx"
      }
    },
    {
      "cell_type": "code",
      "source": [
        "Z = df[['horsepower', 'curb-weight', 'engine-size', 'highway-mpg']]"
      ],
      "metadata": {
        "id": "PtNMfCOalnYx"
      },
      "execution_count": 20,
      "outputs": []
    },
    {
      "cell_type": "markdown",
      "source": [
        "Fit the linear model using the four above-mentioned variables.\n"
      ],
      "metadata": {
        "id": "JNCOdnyxlnYx"
      }
    },
    {
      "cell_type": "code",
      "source": [
        "lm.fit(Z, df['price'])"
      ],
      "metadata": {
        "id": "rcfpXqOZlnYx",
        "outputId": "919b2bc8-c682-4fd7-ceec-0b0de95ad5c4",
        "colab": {
          "base_uri": "https://localhost:8080/"
        }
      },
      "execution_count": 21,
      "outputs": [
        {
          "output_type": "execute_result",
          "data": {
            "text/plain": [
              "LinearRegression()"
            ]
          },
          "metadata": {},
          "execution_count": 21
        }
      ]
    },
    {
      "cell_type": "markdown",
      "source": [
        "What is the value of the intercept(a)?\n"
      ],
      "metadata": {
        "id": "hxT2mC5dlnYx"
      }
    },
    {
      "cell_type": "code",
      "source": [
        "lm.intercept_"
      ],
      "metadata": {
        "id": "Yi9o2-EblnYx",
        "outputId": "0349f125-07a1-4889-c257-567bc3c26ec0",
        "colab": {
          "base_uri": "https://localhost:8080/"
        }
      },
      "execution_count": 22,
      "outputs": [
        {
          "output_type": "execute_result",
          "data": {
            "text/plain": [
              "-15806.62462632922"
            ]
          },
          "metadata": {},
          "execution_count": 22
        }
      ]
    },
    {
      "cell_type": "markdown",
      "source": [
        "What are the values of the coefficients (b1, b2, b3, b4)?\n"
      ],
      "metadata": {
        "id": "4P-QVQVLlnYx"
      }
    },
    {
      "cell_type": "code",
      "source": [
        "lm.coef_"
      ],
      "metadata": {
        "id": "A4iD7GeJlnYy",
        "outputId": "f4669e65-8771-4cd2-add2-9a5a1d24546f",
        "colab": {
          "base_uri": "https://localhost:8080/"
        }
      },
      "execution_count": 23,
      "outputs": [
        {
          "output_type": "execute_result",
          "data": {
            "text/plain": [
              "array([53.49574423,  4.70770099, 81.53026382, 36.05748882])"
            ]
          },
          "metadata": {},
          "execution_count": 23
        }
      ]
    },
    {
      "cell_type": "markdown",
      "source": [
        "What is the final estimated linear model that we get?\n"
      ],
      "metadata": {
        "id": "6BwxdesflnYy"
      }
    },
    {
      "cell_type": "markdown",
      "source": [
        "As we saw above, we should get a final linear function with the structure:\n",
        "\n",
        "$$\n",
        "Yhat = a + b\\_1 X\\_1 + b\\_2 X\\_2 + b\\_3 X\\_3 + b\\_4 X\\_4\n",
        "$$\n",
        "\n",
        "What is the linear function we get in this example?\n"
      ],
      "metadata": {
        "id": "0VyojE6rlnYy"
      }
    },
    {
      "cell_type": "markdown",
      "source": [
        "<b>Price</b> = -15678.742628061467 + 52.65851272 x <b>horsepower</b> + 4.69878948 x <b>curb-weight</b> + 81.95906216 x <b>engine-size</b> + 33.58258185 x <b>highway-mpg</b>\n"
      ],
      "metadata": {
        "id": "GwtKBP0klnYy"
      }
    },
    {
      "cell_type": "markdown",
      "source": [
        "<div class=\"alert alert-danger alertdanger\" style=\"margin-top: 20px\">\n",
        "<h1> Question  #2 a): </h1>\n",
        "Create and train a Multiple Linear Regression model \"lm2\" where the response variable is \"price\", and the predictor variable is \"normalized-losses\" and  \"highway-mpg\".\n",
        "</div>\n"
      ],
      "metadata": {
        "id": "wwKgxq9KlnYy"
      }
    },
    {
      "cell_type": "code",
      "source": [
        "# Write your code below and press Shift+Enter to execute \n",
        "lm2 = LinearRegression()\n",
        "lm2.fit(df[['normalized-losses','highway-mpg']], df[['price']])"
      ],
      "metadata": {
        "id": "FHh14hezlnYy",
        "outputId": "8e95feb0-6076-4827-f872-53d66b5dafce",
        "colab": {
          "base_uri": "https://localhost:8080/"
        }
      },
      "execution_count": 25,
      "outputs": [
        {
          "output_type": "execute_result",
          "data": {
            "text/plain": [
              "LinearRegression()"
            ]
          },
          "metadata": {},
          "execution_count": 25
        }
      ]
    },
    {
      "cell_type": "markdown",
      "source": [
        "<details><summary>Click here for the solution</summary>\n",
        "\n",
        "```python\n",
        "lm2 = LinearRegression()\n",
        "lm2.fit(df[['normalized-losses' , 'highway-mpg']],df['price'])\n",
        "\n",
        "\n",
        "```\n",
        "\n",
        "</details>\n"
      ],
      "metadata": {
        "id": "il7D2goplnYy"
      }
    },
    {
      "cell_type": "markdown",
      "source": [
        "<div class=\"alert alert-danger alertdanger\" style=\"margin-top: 20px\">\n",
        "<h1>Question  #2 b): </h1>\n",
        "<b>Find the coefficient of the model.</b>\n",
        "</div>\n"
      ],
      "metadata": {
        "id": "GZPbpAqclnYy"
      }
    },
    {
      "cell_type": "code",
      "source": [
        "# Write your code below and press Shift+Enter to execute \n",
        "lm2.coef_"
      ],
      "metadata": {
        "id": "JdQ_CHoqlnYy",
        "outputId": "1a0be44d-153d-4789-fbed-04464d1cf0a2",
        "colab": {
          "base_uri": "https://localhost:8080/"
        }
      },
      "execution_count": 26,
      "outputs": [
        {
          "output_type": "execute_result",
          "data": {
            "text/plain": [
              "array([[   1.49789586, -820.45434016]])"
            ]
          },
          "metadata": {},
          "execution_count": 26
        }
      ]
    },
    {
      "cell_type": "markdown",
      "source": [
        "<details><summary>Click here for the solution</summary>\n",
        "\n",
        "```python\n",
        "lm2.coef_\n",
        "\n",
        "```\n",
        "\n",
        "</details>\n"
      ],
      "metadata": {
        "id": "CMddz_UnlnYy"
      }
    },
    {
      "cell_type": "markdown",
      "source": [
        "<h2>2. Model Evaluation Using Visualization</h2>\n"
      ],
      "metadata": {
        "id": "DfDsPETylnYz"
      }
    },
    {
      "cell_type": "markdown",
      "source": [
        "Now that we've developed some models, how do we evaluate our models and choose the best one? One way to do this is by using a visualization.\n"
      ],
      "metadata": {
        "id": "cF07ZmlelnYz"
      }
    },
    {
      "cell_type": "markdown",
      "source": [
        "Import the visualization package, seaborn:\n"
      ],
      "metadata": {
        "id": "LPQpMvKGlnYz"
      }
    },
    {
      "cell_type": "code",
      "source": [
        "# import the visualization package: seaborn\n",
        "import seaborn as sns\n",
        "%matplotlib inline "
      ],
      "metadata": {
        "id": "jM8I36SdlnYz"
      },
      "execution_count": 27,
      "outputs": []
    },
    {
      "cell_type": "markdown",
      "source": [
        "<h3>Regression Plot</h3>\n"
      ],
      "metadata": {
        "id": "AA2J96VWlnYz"
      }
    },
    {
      "cell_type": "markdown",
      "source": [
        "<p>When it comes to simple linear regression, an excellent way to visualize the fit of our model is by using <b>regression plots</b>.</p>\n",
        "\n",
        "<p>This plot will show a combination of a scattered data points (a <b>scatterplot</b>), as well as the fitted <b>linear regression</b> line going through the data. This will give us a reasonable estimate of the relationship between the two variables, the strength of the correlation, as well as the direction (positive or negative correlation).</p>\n"
      ],
      "metadata": {
        "id": "Xi4KC11QlnYz"
      }
    },
    {
      "cell_type": "markdown",
      "source": [
        "Let's visualize **highway-mpg** as potential predictor variable of price:\n"
      ],
      "metadata": {
        "id": "kEOBSElllnYz"
      }
    },
    {
      "cell_type": "code",
      "source": [
        "width = 12\n",
        "height = 10\n",
        "plt.figure(figsize=(width, height))\n",
        "sns.regplot(x=\"highway-mpg\", y=\"price\", data=df)\n",
        "plt.ylim(0,)"
      ],
      "metadata": {
        "id": "6bD7839LlnYz",
        "outputId": "dd5109cd-6ffb-42f7-e994-13be26efd035",
        "colab": {
          "base_uri": "https://localhost:8080/",
          "height": 623
        }
      },
      "execution_count": 28,
      "outputs": [
        {
          "output_type": "execute_result",
          "data": {
            "text/plain": [
              "(0.0, 48181.4174828092)"
            ]
          },
          "metadata": {},
          "execution_count": 28
        },
        {
          "output_type": "display_data",
          "data": {
            "text/plain": [
              "<Figure size 864x720 with 1 Axes>"
            ],
            "image/png": "[encoded data removed]"
          },
          "metadata": {
            "needs_background": "light"
          }
        }
      ]
    },
    {
      "cell_type": "markdown",
      "source": [
        "<p>We can see from this plot that price is negatively correlated to highway-mpg since the regression slope is negative.\n",
        "\n",
        "One thing to keep in mind when looking at a regression plot is to pay attention to how scattered the data points are around the regression line. This will give you a good indication of the variance of the data and whether a linear model would be the best fit or not. If the data is too far off from the line, this linear model might not be the best model for this data.\n",
        "\n",
        "Let's compare this plot to the regression plot of \"peak-rpm\".</p>\n"
      ],
      "metadata": {
        "id": "qB_lKd_XlnYz"
      }
    },
    {
      "cell_type": "code",
      "source": [
        "plt.figure(figsize=(width, height))\n",
        "sns.regplot(x=\"peak-rpm\", y=\"price\", data=df)\n",
        "plt.ylim(0,)"
      ],
      "metadata": {
        "id": "Dt0TrX6zlnYz",
        "outputId": "5c059f8c-01eb-4490-a4c6-68b831ebac80",
        "colab": {
          "base_uri": "https://localhost:8080/",
          "height": 623
        }
      },
      "execution_count": 29,
      "outputs": [
        {
          "output_type": "execute_result",
          "data": {
            "text/plain": [
              "(0.0, 47414.1)"
            ]
          },
          "metadata": {},
          "execution_count": 29
        },
        {
          "output_type": "display_data",
          "data": {
            "text/plain": [
              "<Figure size 864x720 with 1 Axes>"
            ],
            "image/png": "[encoded data removed]"
          },
          "metadata": {
            "needs_background": "light"
          }
        }
      ]
    },
    {
      "cell_type": "markdown",
      "source": [
        "<p>Comparing the regression plot of \"peak-rpm\" and \"highway-mpg\", we see that the points for \"highway-mpg\" are much closer to the generated line and, on average, decrease. The points for \"peak-rpm\" have more spread around the predicted line and it is much harder to determine if the points are decreasing or increasing as the \"peak-rpm\" increases.</p>\n"
      ],
      "metadata": {
        "id": "l6esePvflnY0"
      }
    },
    {
      "cell_type": "markdown",
      "source": [
        "<div class=\"alert alert-danger alertdanger\" style=\"margin-top: 20px\">\n",
        "<h1>Question #3:</h1>\n",
        "<b>Given the regression plots above, is \"peak-rpm\" or \"highway-mpg\" more strongly correlated with \"price\"? Use the method  \".corr()\" to verify your answer.</b>\n",
        "</div>\n"
      ],
      "metadata": {
        "id": "cCeYy0C8lnY0"
      }
    },
    {
      "cell_type": "code",
      "source": [
        "# Write your code below and press Shift+Enter to execute \n",
        "df[['price','peak-rpm','highway-mpg']].corr()"
      ],
      "metadata": {
        "id": "W2TcEY7tlnY0",
        "outputId": "c3478798-5b08-46fb-cba7-6ed01107c824",
        "colab": {
          "base_uri": "https://localhost:8080/",
          "height": 143
        }
      },
      "execution_count": 30,
      "outputs": [
        {
          "output_type": "execute_result",
          "data": {
            "text/plain": [
              "                price  peak-rpm  highway-mpg\n",
              "price        1.000000 -0.101616    -0.704692\n",
              "peak-rpm    -0.101616  1.000000    -0.058598\n",
              "highway-mpg -0.704692 -0.058598     1.000000"
            ],
            "text/html": [
              "\n",
              "  <div id=\"df-f730b123-686b-4268-b169-75dc6cc7edf2\">\n",
              "    <div class=\"colab-df-container\">\n",
              "      <div>\n",
              "<style scoped>\n",
              "    .dataframe tbody tr th:only-of-type {\n",
              "        vertical-align: middle;\n",
              "    }\n",
              "\n",
              "    .dataframe tbody tr th {\n",
              "        vertical-align: top;\n",
              "    }\n",
              "\n",
              "    .dataframe thead th {\n",
              "        text-align: right;\n",
              "    }\n",
              "</style>\n",
              "<table border=\"1\" class=\"dataframe\">\n",
              "  <thead>\n",
              "    <tr style=\"text-align: right;\">\n",
              "      <th></th>\n",
              "      <th>price</th>\n",
              "      <th>peak-rpm</th>\n",
              "      <th>highway-mpg</th>\n",
              "    </tr>\n",
              "  </thead>\n",
              "  <tbody>\n",
              "    <tr>\n",
              "      <th>price</th>\n",
              "      <td>1.000000</td>\n",
              "      <td>-0.101616</td>\n",
              "      <td>-0.704692</td>\n",
              "    </tr>\n",
              "    <tr>\n",
              "      <th>peak-rpm</th>\n",
              "      <td>-0.101616</td>\n",
              "      <td>1.000000</td>\n",
              "      <td>-0.058598</td>\n",
              "    </tr>\n",
              "    <tr>\n",
              "      <th>highway-mpg</th>\n",
              "      <td>-0.704692</td>\n",
              "      <td>-0.058598</td>\n",
              "      <td>1.000000</td>\n",
              "    </tr>\n",
              "  </tbody>\n",
              "</table>\n",
              "</div>\n",
              "      <button class=\"colab-df-convert\" onclick=\"convertToInteractive('df-f730b123-686b-4268-b169-75dc6cc7edf2')\"\n",
              "              title=\"Convert this dataframe to an interactive table.\"\n",
              "              style=\"display:none;\">\n",
              "        \n",
              "  <svg xmlns=\"http://www.w3.org/2000/svg\" height=\"24px\"viewBox=\"0 0 24 24\"\n",
              "       width=\"24px\">\n",
              "    <path d=\"M0 0h24v24H0V0z\" fill=\"none\"/>\n",
              "    <path d=\"M18.56 5.44l.94 2.06.94-2.06 2.06-.94-2.06-.94-.94-2.06-.94 2.06-2.06.94zm-11 1L8.5 8.5l.94-2.06 2.06-.94-2.06-.94L8.5 2.5l-.94 2.06-2.06.94zm10 10l.94 2.06.94-2.06 2.06-.94-2.06-.94-.94-2.06-.94 2.06-2.06.94z\"/><path d=\"M17.41 7.96l-1.37-1.37c-.4-.4-.92-.59-1.43-.59-.52 0-1.04.2-1.43.59L10.3 9.45l-7.72 7.72c-.78.78-.78 2.05 0 2.83L4 21.41c.39.39.9.59 1.41.59.51 0 1.02-.2 1.41-.59l7.78-7.78 2.81-2.81c.8-.78.8-2.07 0-2.86zM5.41 20L4 18.59l7.72-7.72 1.47 1.35L5.41 20z\"/>\n",
              "  </svg>\n",
              "      </button>\n",
              "      \n",
              "  <style>\n",
              "    .colab-df-container {\n",
              "      display:flex;\n",
              "      flex-wrap:wrap;\n",
              "      gap: 12px;\n",
              "    }\n",
              "\n",
              "    .colab-df-convert {\n",
              "      background-color: #E8F0FE;\n",
              "      border: none;\n",
              "      border-radius: 50%;\n",
              "      cursor: pointer;\n",
              "      display: none;\n",
              "      fill: #1967D2;\n",
              "      height: 32px;\n",
              "      padding: 0 0 0 0;\n",
              "      width: 32px;\n",
              "    }\n",
              "\n",
              "    .colab-df-convert:hover {\n",
              "      background-color: #E2EBFA;\n",
              "      box-shadow: 0px 1px 2px rgba(60, 64, 67, 0.3), 0px 1px 3px 1px rgba(60, 64, 67, 0.15);\n",
              "      fill: #174EA6;\n",
              "    }\n",
              "\n",
              "    [theme=dark] .colab-df-convert {\n",
              "      background-color: #3B4455;\n",
              "      fill: #D2E3FC;\n",
              "    }\n",
              "\n",
              "    [theme=dark] .colab-df-convert:hover {\n",
              "      background-color: #434B5C;\n",
              "      box-shadow: 0px 1px 3px 1px rgba(0, 0, 0, 0.15);\n",
              "      filter: drop-shadow(0px 1px 2px rgba(0, 0, 0, 0.3));\n",
              "      fill: #FFFFFF;\n",
              "    }\n",
              "  </style>\n",
              "\n",
              "      <script>\n",
              "        const buttonEl =\n",
              "          document.querySelector('#df-f730b123-686b-4268-b169-75dc6cc7edf2 button.colab-df-convert');\n",
              "        buttonEl.style.display =\n",
              "          google.colab.kernel.accessAllowed ? 'block' : 'none';\n",
              "\n",
              "        async function convertToInteractive(key) {\n",
              "          const element = document.querySelector('#df-f730b123-686b-4268-b169-75dc6cc7edf2');\n",
              "          const dataTable =\n",
              "            await google.colab.kernel.invokeFunction('convertToInteractive',\n",
              "                                                     [key], {});\n",
              "          if (!dataTable) return;\n",
              "\n",
              "          const docLinkHtml = 'Like what you see? Visit the ' +\n",
              "            '<a target=\"_blank\" href=https://colab.research.google.com/notebooks/data_table.ipynb>data table notebook</a>'\n",
              "            + ' to learn more about interactive tables.';\n",
              "          element.innerHTML = '';\n",
              "          dataTable['output_type'] = 'display_data';\n",
              "          await google.colab.output.renderOutput(dataTable, element);\n",
              "          const docLink = document.createElement('div');\n",
              "          docLink.innerHTML = docLinkHtml;\n",
              "          element.appendChild(docLink);\n",
              "        }\n",
              "      </script>\n",
              "    </div>\n",
              "  </div>\n",
              "  "
            ]
          },
          "metadata": {},
          "execution_count": 30
        }
      ]
    },
    {
      "cell_type": "markdown",
      "source": [
        "<details><summary>Click here for the solution</summary>\n",
        "\n",
        "```python\n",
        "# The variable \"highway-mpg\" has a stronger correlation with \"price\", it is approximate -0.704692  compared to \"peak-rpm\" which is approximate -0.101616. You can verify it using the following command:\n",
        "\n",
        "df[[\"peak-rpm\",\"highway-mpg\",\"price\"]].corr()\n",
        "\n",
        "```\n",
        "\n",
        "</details>\n"
      ],
      "metadata": {
        "id": "HlrNF3mKlnY0"
      }
    },
    {
      "cell_type": "markdown",
      "source": [
        "<h3>Residual Plot</h3>\n",
        "\n",
        "<p>A good way to visualize the variance of the data is to use a residual plot.</p>\n",
        "\n",
        "<p>What is a <b>residual</b>?</p>\n",
        "\n",
        "<p>The difference between the observed value (y) and the predicted value (Yhat) is called the residual (e). When we look at a regression plot, the residual is the distance from the data point to the fitted regression line.</p>\n",
        "\n",
        "<p>So what is a <b>residual plot</b>?</p>\n",
        "\n",
        "<p>A residual plot is a graph that shows the residuals on the vertical y-axis and the independent variable on the horizontal x-axis.</p>\n",
        "\n",
        "<p>What do we pay attention to when looking at a residual plot?</p>\n",
        "\n",
        "<p>We look at the spread of the residuals:</p>\n",
        "\n",
        "<p>- If the points in a residual plot are <b>randomly spread out around the x-axis</b>, then a <b>linear model is appropriate</b> for the data.\n",
        "\n",
        "Why is that? Randomly spread out residuals means that the variance is constant, and thus the linear model is a good fit for this data.</p>\n"
      ],
      "metadata": {
        "id": "QkauSs32lnY0"
      }
    },
    {
      "cell_type": "code",
      "source": [
        "width = 12\n",
        "height = 10\n",
        "plt.figure(figsize=(width, height))\n",
        "sns.residplot(x=df['highway-mpg'], y=df['price'])\n",
        "plt.show()"
      ],
      "metadata": {
        "id": "OS54uw1OlnY0",
        "outputId": "d9e42d59-081d-447c-a170-4f403fcbebd4",
        "colab": {
          "base_uri": "https://localhost:8080/",
          "height": 606
        }
      },
      "execution_count": 31,
      "outputs": [
        {
          "output_type": "display_data",
          "data": {
            "text/plain": [
              "<Figure size 864x720 with 1 Axes>"
            ],
            "image/png": "[encoded data removed]"
          },
          "metadata": {
            "needs_background": "light"
          }
        }
      ]
    },
    {
      "cell_type": "markdown",
      "source": [
        "<i>What is this plot telling us?</i>\n",
        "\n",
        "<p>We can see from this residual plot that the residuals are not randomly spread around the x-axis, leading us to believe that maybe a non-linear model is more appropriate for this data.</p>\n"
      ],
      "metadata": {
        "id": "9yL5ankplnY0"
      }
    },
    {
      "cell_type": "markdown",
      "source": [
        "<h3>Multiple Linear Regression</h3>\n"
      ],
      "metadata": {
        "id": "cZHilwihlnY0"
      }
    },
    {
      "cell_type": "markdown",
      "source": [
        "<p>How do we visualize a model for Multiple Linear Regression? This gets a bit more complicated because you can't visualize it with regression or residual plot.</p>\n",
        "\n",
        "<p>One way to look at the fit of the model is by looking at the <b>distribution plot</b>. We can look at the distribution of the fitted values that result from the model and compare it to the distribution of the actual values.</p>\n"
      ],
      "metadata": {
        "id": "W_HLEhFjlnY0"
      }
    },
    {
      "cell_type": "markdown",
      "source": [
        "First, let's make a prediction:\n"
      ],
      "metadata": {
        "id": "U03be6filnY0"
      }
    },
    {
      "cell_type": "code",
      "source": [
        "Y_hat = lm.predict(Z)"
      ],
      "metadata": {
        "id": "4baGmgi7lnY0"
      },
      "execution_count": 32,
      "outputs": []
    },
    {
      "cell_type": "code",
      "source": [
        "plt.figure(figsize=(width, height))\n",
        "\n",
        "\n",
        "ax1 = sns.distplot(df['price'], hist=False, color=\"r\", label=\"Actual Value\")\n",
        "sns.distplot(Y_hat, hist=False, color=\"b\", label=\"Fitted Values\" , ax=ax1)\n",
        "\n",
        "\n",
        "plt.title('Actual vs Fitted Values for Price')\n",
        "plt.xlabel('Price (in dollars)')\n",
        "plt.ylabel('Proportion of Cars')\n",
        "\n",
        "plt.show()\n",
        "plt.close()"
      ],
      "metadata": {
        "id": "4JbY11LwlnY1",
        "outputId": "9c8a8d3f-7112-4e62-8989-313de83c7262",
        "colab": {
          "base_uri": "https://localhost:8080/",
          "height": 710
        }
      },
      "execution_count": 33,
      "outputs": [
        {
          "output_type": "stream",
          "name": "stderr",
          "text": [
            "/usr/local/lib/python3.8/dist-packages/seaborn/distributions.py:2619: FutureWarning: `distplot` is a deprecated function and will be removed in a future version. Please adapt your code to use either `displot` (a figure-level function with similar flexibility) or `kdeplot` (an axes-level function for kernel density plots).\n",
            "  warnings.warn(msg, FutureWarning)\n",
            "/usr/local/lib/python3.8/dist-packages/seaborn/distributions.py:2619: FutureWarning: `distplot` is a deprecated function and will be removed in a future version. Please adapt your code to use either `displot` (a figure-level function with similar flexibility) or `kdeplot` (an axes-level function for kernel density plots).\n",
            "  warnings.warn(msg, FutureWarning)\n"
          ]
        },
        {
          "output_type": "display_data",
          "data": {
            "text/plain": [
              "<Figure size 864x720 with 1 Axes>"
            ],
            "image/png": "[encoded data removed]"
          },
          "metadata": {
            "needs_background": "light"
          }
        }
      ]
    },
    {
      "cell_type": "markdown",
      "source": [
        "<p>We can see that the fitted values are reasonably close to the actual values since the two distributions overlap a bit. However, there is definitely some room for improvement.</p>\n"
      ],
      "metadata": {
        "id": "BMaTbkOolnY1"
      }
    },
    {
      "cell_type": "markdown",
      "source": [
        "<h2>3. Polynomial Regression and Pipelines</h2>\n"
      ],
      "metadata": {
        "id": "hO1C4B25lnY1"
      }
    },
    {
      "cell_type": "markdown",
      "source": [
        "<p><b>Polynomial regression</b> is a particular case of the general linear regression model or multiple linear regression models.</p> \n",
        "<p>We get non-linear relationships by squaring or setting higher-order terms of the predictor variables.</p>\n",
        "\n",
        "<p>There are different orders of polynomial regression:</p>\n"
      ],
      "metadata": {
        "id": "EJCJUCOClnY1"
      }
    },
    {
      "cell_type": "markdown",
      "source": [
        "<center><b>Quadratic - 2nd Order</b></center>\n",
        "$$\n",
        "Yhat = a + b_1 X +b_2 X^2 \n",
        "$$\n",
        "\n",
        "<center><b>Cubic - 3rd Order</b></center>\n",
        "$$\n",
        "Yhat = a + b_1 X +b_2 X^2 +b_3 X^3\\\\\\\\\n",
        "$$\n",
        "\n",
        "<center><b>Higher-Order</b>:</center>\n",
        "$$\n",
        "Y = a + b_1 X +b_2 X^2 +b_3 X^3 ....\\\\\\\\\n",
        "$$\n"
      ],
      "metadata": {
        "id": "Lw8tU2YHlnY1"
      }
    },
    {
      "cell_type": "markdown",
      "source": [
        "<p>We saw earlier that a linear model did not provide the best fit while using \"highway-mpg\" as the predictor variable. Let's see if we can try fitting a polynomial model to the data instead.</p>\n"
      ],
      "metadata": {
        "id": "YUIsGftMlnY1"
      }
    },
    {
      "cell_type": "markdown",
      "source": [
        "<p>We will use the following function to plot the data:</p>\n"
      ],
      "metadata": {
        "id": "RkbxOD9DlnY1"
      }
    },
    {
      "cell_type": "code",
      "source": [
        "def PlotPolly(model, independent_variable, dependent_variabble, Name):\n",
        "    x_new = np.linspace(15, 55, 100)\n",
        "    y_new = model(x_new)\n",
        "\n",
        "    plt.plot(independent_variable, dependent_variabble, '.', x_new, y_new, '-')\n",
        "    plt.title('Polynomial Fit with Matplotlib for Price ~ Length')\n",
        "    ax = plt.gca()\n",
        "    ax.set_facecolor((0.898, 0.898, 0.898))\n",
        "    fig = plt.gcf()\n",
        "    plt.xlabel(Name)\n",
        "    plt.ylabel('Price of Cars')\n",
        "\n",
        "    plt.show()\n",
        "    plt.close()"
      ],
      "metadata": {
        "id": "8sOyxM5xlnY1"
      },
      "execution_count": 34,
      "outputs": []
    },
    {
      "cell_type": "markdown",
      "source": [
        "Let's get the variables:\n"
      ],
      "metadata": {
        "id": "HNK0-p3LlnY1"
      }
    },
    {
      "cell_type": "code",
      "source": [
        "x = df['highway-mpg']\n",
        "y = df['price']"
      ],
      "metadata": {
        "id": "_TgfURFAlnY1"
      },
      "execution_count": 35,
      "outputs": []
    },
    {
      "cell_type": "markdown",
      "source": [
        "Let's fit the polynomial using the function <b>polyfit</b>, then use the function <b>poly1d</b> to display the polynomial function.\n"
      ],
      "metadata": {
        "id": "Tj-x7_TZlnY1"
      }
    },
    {
      "cell_type": "code",
      "source": [
        "# Here we use a polynomial of the 3rd order (cubic) \n",
        "f = np.polyfit(x, y, 3)\n",
        "p = np.poly1d(f)\n",
        "print(p)"
      ],
      "metadata": {
        "id": "4mdqlegzlnY2",
        "outputId": "78c17713-32e0-4b98-c5aa-19f7d75910ae",
        "colab": {
          "base_uri": "https://localhost:8080/"
        }
      },
      "execution_count": 36,
      "outputs": [
        {
          "output_type": "stream",
          "name": "stdout",
          "text": [
            "        3         2\n",
            "-1.557 x + 204.8 x - 8965 x + 1.379e+05\n"
          ]
        }
      ]
    },
    {
      "cell_type": "markdown",
      "source": [
        "Let's plot the function:\n"
      ],
      "metadata": {
        "id": "G8nQT-SQlnY2"
      }
    },
    {
      "cell_type": "code",
      "source": [
        "PlotPolly(p, x, y, 'highway-mpg')"
      ],
      "metadata": {
        "id": "q3EeqUKdlnY2",
        "outputId": "ae9906a2-7973-4614-adfb-80b99f1b2e7e",
        "colab": {
          "base_uri": "https://localhost:8080/",
          "height": 295
        }
      },
      "execution_count": 37,
      "outputs": [
        {
          "output_type": "display_data",
          "data": {
            "text/plain": [
              "<Figure size 432x288 with 1 Axes>"
            ],
            "image/png": "[encoded data removed]"
          },
          "metadata": {
            "needs_background": "light"
          }
        }
      ]
    },
    {
      "cell_type": "code",
      "source": [
        "np.polyfit(x, y, 3)"
      ],
      "metadata": {
        "id": "6n6civFTlnY2",
        "outputId": "e2dd4021-2ef0-44db-b276-6c10b0fa1b97",
        "colab": {
          "base_uri": "https://localhost:8080/"
        }
      },
      "execution_count": 38,
      "outputs": [
        {
          "output_type": "execute_result",
          "data": {
            "text/plain": [
              "array([-1.55663829e+00,  2.04754306e+02, -8.96543312e+03,  1.37923594e+05])"
            ]
          },
          "metadata": {},
          "execution_count": 38
        }
      ]
    },
    {
      "cell_type": "markdown",
      "source": [
        "<p>We can already see from plotting that this polynomial model performs better than the linear model. This is because the generated polynomial function  \"hits\" more of the data points.</p>\n"
      ],
      "metadata": {
        "id": "_ctVLSu6lnY2"
      }
    },
    {
      "cell_type": "markdown",
      "source": [
        "<div class=\"alert alert-danger alertdanger\" style=\"margin-top: 20px\">\n",
        "<h1>Question  #4:</h1>\n",
        "<b>Create 11 order polynomial model with the variables x and y from above.</b>\n",
        "</div>\n"
      ],
      "metadata": {
        "id": "oh4OOdqUlnY2"
      }
    },
    {
      "cell_type": "code",
      "source": [
        "# Write your code below and press Shift+Enter to execute \n",
        "f1 = np.polyfit(x, y, 11)\n",
        "p1 = np.poly1d(f1)\n",
        "print(p1)\n",
        "PlotPolly(p1,x,y, 'Highway MPG')"
      ],
      "metadata": {
        "id": "bRfutU2plnY2",
        "outputId": "86d87d32-c0fc-4543-a300-e3ac34471b7e",
        "colab": {
          "base_uri": "https://localhost:8080/",
          "height": 364
        }
      },
      "execution_count": 39,
      "outputs": [
        {
          "output_type": "stream",
          "name": "stdout",
          "text": [
            "            11             10             9           8         7\n",
            "-1.243e-08 x  + 4.722e-06 x  - 0.0008028 x + 0.08056 x - 5.297 x\n",
            "          6        5             4             3             2\n",
            " + 239.5 x - 7588 x + 1.684e+05 x - 2.565e+06 x + 2.551e+07 x - 1.491e+08 x + 3.879e+08\n"
          ]
        },
        {
          "output_type": "display_data",
          "data": {
            "text/plain": [
              "<Figure size 432x288 with 1 Axes>"
            ],
            "image/png": "[encoded data removed]"
          },
          "metadata": {
            "needs_background": "light"
          }
        }
      ]
    },
    {
      "cell_type": "markdown",
      "source": [
        "<details><summary>Click here for the solution</summary>\n",
        "\n",
        "```python\n",
        "# Here we use a polynomial of the 11rd order (cubic) \n",
        "f1 = np.polyfit(x, y, 11)\n",
        "p1 = np.poly1d(f1)\n",
        "print(p1)\n",
        "PlotPolly(p1,x,y, 'Highway MPG')\n",
        "\n",
        "```\n",
        "\n",
        "</details>\n"
      ],
      "metadata": {
        "id": "0SaQqQ3ylnY2"
      }
    },
    {
      "cell_type": "markdown",
      "source": [
        "<p>The analytical expression for Multivariate Polynomial function gets complicated. For example, the expression for a second-order (degree=2) polynomial with two variables is given by:</p>\n"
      ],
      "metadata": {
        "id": "jb2C4_XolnY2"
      }
    },
    {
      "cell_type": "markdown",
      "source": [
        "$$\n",
        "Yhat = a + b\\_1 X\\_1 +b\\_2 X\\_2 +b\\_3 X\\_1 X\\_2+b\\_4 X\\_1^2+b\\_5 X\\_2^2\n",
        "$$\n"
      ],
      "metadata": {
        "id": "TKO2zzFtlnY2"
      }
    },
    {
      "cell_type": "markdown",
      "source": [
        "We can perform a polynomial transform on multiple features. First, we import the module:\n"
      ],
      "metadata": {
        "id": "gojqj5x8lnY2"
      }
    },
    {
      "cell_type": "code",
      "source": [
        "from sklearn.preprocessing import PolynomialFeatures"
      ],
      "metadata": {
        "id": "EuXunE9tlnY2"
      },
      "execution_count": 40,
      "outputs": []
    },
    {
      "cell_type": "markdown",
      "source": [
        "We create a <b>PolynomialFeatures</b> object of degree 2:\n"
      ],
      "metadata": {
        "id": "3f5qEf78lnY2"
      }
    },
    {
      "cell_type": "code",
      "source": [
        "pr=PolynomialFeatures(degree=2)\n",
        "pr"
      ],
      "metadata": {
        "id": "kgC46sp6lnY2",
        "outputId": "00485c18-970e-4fa9-f57b-ea69f9e1baf7",
        "colab": {
          "base_uri": "https://localhost:8080/"
        }
      },
      "execution_count": 41,
      "outputs": [
        {
          "output_type": "execute_result",
          "data": {
            "text/plain": [
              "PolynomialFeatures()"
            ]
          },
          "metadata": {},
          "execution_count": 41
        }
      ]
    },
    {
      "cell_type": "code",
      "source": [
        "Z_pr=pr.fit_transform(Z)"
      ],
      "metadata": {
        "id": "tYUGVzePlnY3"
      },
      "execution_count": 42,
      "outputs": []
    },
    {
      "cell_type": "markdown",
      "source": [
        "In the original data, there are 201 samples and 4 features.\n"
      ],
      "metadata": {
        "id": "KQretmi5lnY3"
      }
    },
    {
      "cell_type": "code",
      "source": [
        "Z.shape"
      ],
      "metadata": {
        "id": "UfPJ1q3YlnY3",
        "outputId": "65724bee-f3cb-4ac5-e7f0-64508993a7cc",
        "colab": {
          "base_uri": "https://localhost:8080/"
        }
      },
      "execution_count": 43,
      "outputs": [
        {
          "output_type": "execute_result",
          "data": {
            "text/plain": [
              "(201, 4)"
            ]
          },
          "metadata": {},
          "execution_count": 43
        }
      ]
    },
    {
      "cell_type": "markdown",
      "source": [
        "After the transformation, there are 201 samples and 15 features.\n"
      ],
      "metadata": {
        "id": "C-a_drWblnY3"
      }
    },
    {
      "cell_type": "code",
      "source": [
        "Z_pr.shape"
      ],
      "metadata": {
        "id": "KpPU2eS5lnY3",
        "outputId": "3b7045fd-fcab-42ec-e74a-b3cfa619c783",
        "colab": {
          "base_uri": "https://localhost:8080/"
        }
      },
      "execution_count": 44,
      "outputs": [
        {
          "output_type": "execute_result",
          "data": {
            "text/plain": [
              "(201, 15)"
            ]
          },
          "metadata": {},
          "execution_count": 44
        }
      ]
    },
    {
      "cell_type": "markdown",
      "source": [
        "<h2>Pipeline</h2>\n"
      ],
      "metadata": {
        "id": "7MJKzU1flnY3"
      }
    },
    {
      "cell_type": "markdown",
      "source": [
        "<p>Data Pipelines simplify the steps of processing the data. We use the module <b>Pipeline</b> to create a pipeline. We also use <b>StandardScaler</b> as a step in our pipeline.</p>\n"
      ],
      "metadata": {
        "id": "0gIX1QGclnY3"
      }
    },
    {
      "cell_type": "code",
      "source": [
        "from sklearn.pipeline import Pipeline\n",
        "from sklearn.preprocessing import StandardScaler"
      ],
      "metadata": {
        "id": "J__LvzS5lnY3"
      },
      "execution_count": 45,
      "outputs": []
    },
    {
      "cell_type": "markdown",
      "source": [
        "We create the pipeline by creating a list of tuples including the name of the model or estimator and its corresponding constructor.\n"
      ],
      "metadata": {
        "id": "BkrUtxwClnY3"
      }
    },
    {
      "cell_type": "code",
      "source": [
        "Input=[('scale',StandardScaler()), ('polynomial', PolynomialFeatures(include_bias=False)), ('model',LinearRegression())]"
      ],
      "metadata": {
        "id": "cR6UAOvtlnY3"
      },
      "execution_count": 46,
      "outputs": []
    },
    {
      "cell_type": "markdown",
      "source": [
        "We input the list as an argument to the pipeline constructor:\n"
      ],
      "metadata": {
        "id": "R0oArjt7lnY3"
      }
    },
    {
      "cell_type": "code",
      "source": [
        "pipe=Pipeline(Input)\n",
        "pipe"
      ],
      "metadata": {
        "id": "xZjqZAGslnY3",
        "outputId": "c429c510-0ab3-4287-92b3-a9bd60818e05",
        "colab": {
          "base_uri": "https://localhost:8080/"
        }
      },
      "execution_count": 47,
      "outputs": [
        {
          "output_type": "execute_result",
          "data": {
            "text/plain": [
              "Pipeline(steps=[('scale', StandardScaler()),\n",
              "                ('polynomial', PolynomialFeatures(include_bias=False)),\n",
              "                ('model', LinearRegression())])"
            ]
          },
          "metadata": {},
          "execution_count": 47
        }
      ]
    },
    {
      "cell_type": "markdown",
      "source": [
        "First, we convert the data type Z to type float to avoid conversion warnings that may appear as a result of StandardScaler taking float inputs.\n",
        "\n",
        "Then, we can normalize the data,  perform a transform and fit the model simultaneously.\n"
      ],
      "metadata": {
        "id": "iIgTmJn0lnY3"
      }
    },
    {
      "cell_type": "code",
      "source": [
        "Z = Z.astype(float)\n",
        "pipe.fit(Z,y)"
      ],
      "metadata": {
        "id": "xrrFNmbUlnY3",
        "outputId": "ab35f5ba-f300-482d-b471-a02b2a1aa85d",
        "colab": {
          "base_uri": "https://localhost:8080/"
        }
      },
      "execution_count": 48,
      "outputs": [
        {
          "output_type": "execute_result",
          "data": {
            "text/plain": [
              "Pipeline(steps=[('scale', StandardScaler()),\n",
              "                ('polynomial', PolynomialFeatures(include_bias=False)),\n",
              "                ('model', LinearRegression())])"
            ]
          },
          "metadata": {},
          "execution_count": 48
        }
      ]
    },
    {
      "cell_type": "markdown",
      "source": [
        "Similarly,  we can normalize the data, perform a transform and produce a prediction  simultaneously.\n"
      ],
      "metadata": {
        "id": "sG4cuvXdlnY4"
      }
    },
    {
      "cell_type": "code",
      "source": [
        "ypipe=pipe.predict(Z)\n",
        "ypipe[0:4]"
      ],
      "metadata": {
        "id": "WYr6-GwVlnY4",
        "outputId": "abcdb745-c335-4622-ea82-725f1ed4d615",
        "colab": {
          "base_uri": "https://localhost:8080/"
        }
      },
      "execution_count": 49,
      "outputs": [
        {
          "output_type": "execute_result",
          "data": {
            "text/plain": [
              "array([13102.74784201, 13102.74784201, 18225.54572197, 10390.29636555])"
            ]
          },
          "metadata": {},
          "execution_count": 49
        }
      ]
    },
    {
      "cell_type": "markdown",
      "source": [
        "<div class=\"alert alert-danger alertdanger\" style=\"margin-top: 20px\">\n",
        "<h1>Question #5:</h1>\n",
        "<b>Create a pipeline that standardizes the data, then produce a prediction using a linear regression model using the features Z and target y.</b>\n",
        "</div>\n"
      ],
      "metadata": {
        "id": "tAHwd0brlnY4"
      }
    },
    {
      "cell_type": "code",
      "source": [
        "# Write your code below and press Shift+Enter to execute \n",
        "Input=[('scale',StandardScaler()),('model',LinearRegression())]\n",
        "\n",
        "pipe=Pipeline(Input)\n",
        "\n",
        "pipe.fit(Z,y)"
      ],
      "metadata": {
        "id": "iip4Tm8klnY4",
        "outputId": "5d0cedd1-1245-411e-9676-34bc097cfba3",
        "colab": {
          "base_uri": "https://localhost:8080/"
        }
      },
      "execution_count": 50,
      "outputs": [
        {
          "output_type": "execute_result",
          "data": {
            "text/plain": [
              "Pipeline(steps=[('scale', StandardScaler()), ('model', LinearRegression())])"
            ]
          },
          "metadata": {},
          "execution_count": 50
        }
      ]
    },
    {
      "cell_type": "markdown",
      "source": [
        "<details><summary>Click here for the solution</summary>\n",
        "\n",
        "```python\n",
        "Input=[('scale',StandardScaler()),('model',LinearRegression())]\n",
        "\n",
        "pipe=Pipeline(Input)\n",
        "\n",
        "pipe.fit(Z,y)\n",
        "\n",
        "ypipe=pipe.predict(Z)\n",
        "ypipe[0:10]\n",
        "\n",
        "```\n",
        "\n",
        "</details>\n"
      ],
      "metadata": {
        "id": "oHZyPKTelnY4"
      }
    },
    {
      "cell_type": "markdown",
      "source": [
        "<h2>4. Measures for In-Sample Evaluation</h2>\n"
      ],
      "metadata": {
        "id": "HDaHeF_BlnY4"
      }
    },
    {
      "cell_type": "markdown",
      "source": [
        "<p>When evaluating our models, not only do we want to visualize the results, but we also want a quantitative measure to determine how accurate the model is.</p>\n",
        "\n",
        "<p>Two very important measures that are often used in Statistics to determine the accuracy of a model are:</p>\n",
        "<ul>\n",
        "    <li><b>R^2 / R-squared</b></li>\n",
        "    <li><b>Mean Squared Error (MSE)</b></li>\n",
        "</ul>\n",
        "\n",
        "<b>R-squared</b>\n",
        "\n",
        "<p>R squared, also known as the coefficient of determination, is a measure to indicate how close the data is to the fitted regression line.</p>\n",
        "\n",
        "<p>The value of the R-squared is the percentage of variation of the response variable (y) that is explained by a linear model.</p>\n",
        "\n",
        "<b>Mean Squared Error (MSE)</b>\n",
        "\n",
        "<p>The Mean Squared Error measures the average of the squares of errors. That is, the difference between actual value (y) and the estimated value (ŷ).</p>\n"
      ],
      "metadata": {
        "id": "LJfPisFolnY4"
      }
    },
    {
      "cell_type": "markdown",
      "source": [
        "<h3>Model 1: Simple Linear Regression</h3>\n"
      ],
      "metadata": {
        "id": "HgkpGxrslnY4"
      }
    },
    {
      "cell_type": "markdown",
      "source": [
        "Let's calculate the R^2:\n"
      ],
      "metadata": {
        "id": "nRWh5DTTlnY4"
      }
    },
    {
      "cell_type": "code",
      "source": [
        "#highway_mpg_fit\n",
        "lm.fit(X, Y)\n",
        "# Find the R^2\n",
        "print('The R-square is: ', lm.score(X, Y))"
      ],
      "metadata": {
        "scrolled": true,
        "id": "bd1F794mlnY4",
        "outputId": "c8343494-a901-4716-9fe4-fe1b10df967d",
        "colab": {
          "base_uri": "https://localhost:8080/"
        }
      },
      "execution_count": 51,
      "outputs": [
        {
          "output_type": "stream",
          "name": "stdout",
          "text": [
            "The R-square is:  0.4965911884339176\n"
          ]
        }
      ]
    },
    {
      "cell_type": "markdown",
      "source": [
        "We can say that \\~49.659% of the variation of the price is explained by this simple linear model \"horsepower_fit\".\n"
      ],
      "metadata": {
        "id": "bZYjsEBalnY5"
      }
    },
    {
      "cell_type": "markdown",
      "source": [
        "Let's calculate the MSE:\n"
      ],
      "metadata": {
        "id": "_UlMIvAUlnY5"
      }
    },
    {
      "cell_type": "markdown",
      "source": [
        "We can predict the output i.e., \"yhat\" using the predict method, where X is the input variable:\n"
      ],
      "metadata": {
        "id": "l--oDHNclnY5"
      }
    },
    {
      "cell_type": "code",
      "source": [
        "Yhat=lm.predict(X)\n",
        "print('The output of the first four predicted value is: ', Yhat[0:4])"
      ],
      "metadata": {
        "id": "lLYZimcrlnY5",
        "outputId": "2d50101a-f350-4d48-9d36-a77131f55576",
        "colab": {
          "base_uri": "https://localhost:8080/"
        }
      },
      "execution_count": 52,
      "outputs": [
        {
          "output_type": "stream",
          "name": "stdout",
          "text": [
            "The output of the first four predicted value is:  [16236.50464347 16236.50464347 17058.23802179 13771.3045085 ]\n"
          ]
        }
      ]
    },
    {
      "cell_type": "markdown",
      "source": [
        "Let's import the function <b>mean_squared_error</b> from the module <b>metrics</b>:\n"
      ],
      "metadata": {
        "id": "cRLysEUDlnY5"
      }
    },
    {
      "cell_type": "code",
      "source": [
        "from sklearn.metrics import mean_squared_error"
      ],
      "metadata": {
        "id": "YiFESruPlnY5"
      },
      "execution_count": 53,
      "outputs": []
    },
    {
      "cell_type": "markdown",
      "source": [
        "We can compare the predicted results with the actual results:\n"
      ],
      "metadata": {
        "id": "2u7_iybXlnY5"
      }
    },
    {
      "cell_type": "code",
      "source": [
        "mse = mean_squared_error(df['price'], Yhat)\n",
        "print('The mean square error of price and predicted value is: ', mse)"
      ],
      "metadata": {
        "id": "vUbwWdxUlnY5",
        "outputId": "fbebde74-42cf-4c14-b491-d35035658a9a",
        "colab": {
          "base_uri": "https://localhost:8080/"
        }
      },
      "execution_count": 54,
      "outputs": [
        {
          "output_type": "stream",
          "name": "stdout",
          "text": [
            "The mean square error of price and predicted value is:  31635042.944639888\n"
          ]
        }
      ]
    },
    {
      "cell_type": "markdown",
      "source": [
        "<h3>Model 2: Multiple Linear Regression</h3>\n"
      ],
      "metadata": {
        "id": "1XRSXrAvlnY5"
      }
    },
    {
      "cell_type": "markdown",
      "source": [
        "Let's calculate the R^2:\n"
      ],
      "metadata": {
        "id": "9N6s1MBklnY5"
      }
    },
    {
      "cell_type": "code",
      "source": [
        "# fit the model \n",
        "lm.fit(Z, df['price'])\n",
        "# Find the R^2\n",
        "print('The R-square is: ', lm.score(Z, df['price']))"
      ],
      "metadata": {
        "id": "kbA5NvfllnY5",
        "outputId": "09bf8a7d-76b3-41f2-a05a-d0243b4d8ddf",
        "colab": {
          "base_uri": "https://localhost:8080/"
        }
      },
      "execution_count": 55,
      "outputs": [
        {
          "output_type": "stream",
          "name": "stdout",
          "text": [
            "The R-square is:  0.8093562806577457\n"
          ]
        }
      ]
    },
    {
      "cell_type": "markdown",
      "source": [
        "We can say that \\~80.896 % of the variation of price is explained by this multiple linear regression \"multi_fit\".\n"
      ],
      "metadata": {
        "id": "82tuzoZ-lnY5"
      }
    },
    {
      "cell_type": "markdown",
      "source": [
        "Let's calculate the MSE.\n"
      ],
      "metadata": {
        "id": "sG-bJVItlnY5"
      }
    },
    {
      "cell_type": "markdown",
      "source": [
        "We produce a prediction:\n"
      ],
      "metadata": {
        "id": "_jvEb8izlnY5"
      }
    },
    {
      "cell_type": "code",
      "source": [
        "Y_predict_multifit = lm.predict(Z)"
      ],
      "metadata": {
        "id": "shh_cV_wlnY6"
      },
      "execution_count": 56,
      "outputs": []
    },
    {
      "cell_type": "markdown",
      "source": [
        "We compare the predicted results with the actual results:\n"
      ],
      "metadata": {
        "id": "jgLUtOP1lnY6"
      }
    },
    {
      "cell_type": "code",
      "source": [
        "print('The mean square error of price and predicted value using multifit is: ', \\\n",
        "      mean_squared_error(df['price'], Y_predict_multifit))"
      ],
      "metadata": {
        "id": "Rus3z80SlnY6",
        "outputId": "337405d2-912d-46b5-9709-4296d8f91835",
        "colab": {
          "base_uri": "https://localhost:8080/"
        }
      },
      "execution_count": 57,
      "outputs": [
        {
          "output_type": "stream",
          "name": "stdout",
          "text": [
            "The mean square error of price and predicted value using multifit is:  11980366.87072649\n"
          ]
        }
      ]
    },
    {
      "cell_type": "markdown",
      "source": [
        "<h3>Model 3: Polynomial Fit</h3>\n"
      ],
      "metadata": {
        "id": "IQFaa9hdlnY6"
      }
    },
    {
      "cell_type": "markdown",
      "source": [
        "Let's calculate the R^2.\n"
      ],
      "metadata": {
        "id": "lLAWJHprlnY6"
      }
    },
    {
      "cell_type": "markdown",
      "source": [
        "Let’s import the function <b>r2\\_score</b> from the module <b>metrics</b> as we are using a different function.\n"
      ],
      "metadata": {
        "id": "A2rHj46glnY6"
      }
    },
    {
      "cell_type": "code",
      "source": [
        "from sklearn.metrics import r2_score"
      ],
      "metadata": {
        "id": "sToPvISmlnY6"
      },
      "execution_count": 58,
      "outputs": []
    },
    {
      "cell_type": "markdown",
      "source": [
        "We apply the function to get the value of R^2:\n"
      ],
      "metadata": {
        "id": "NP9KukLrlnY6"
      }
    },
    {
      "cell_type": "code",
      "source": [
        "r_squared = r2_score(y, p(x))\n",
        "print('The R-square value is: ', r_squared)"
      ],
      "metadata": {
        "id": "P_G4OFnElnY6",
        "outputId": "0eb65a27-4c3d-4ee1-d97a-ec5bf0284f4d",
        "colab": {
          "base_uri": "https://localhost:8080/"
        }
      },
      "execution_count": 59,
      "outputs": [
        {
          "output_type": "stream",
          "name": "stdout",
          "text": [
            "The R-square value is:  0.674194666390652\n"
          ]
        }
      ]
    },
    {
      "cell_type": "markdown",
      "source": [
        "We can say that \\~67.419 % of the variation of price is explained by this polynomial fit.\n"
      ],
      "metadata": {
        "id": "Gec8mpiIlnY7"
      }
    },
    {
      "cell_type": "markdown",
      "source": [
        "<h3>MSE</h3>\n"
      ],
      "metadata": {
        "id": "Un9agnUYlnY7"
      }
    },
    {
      "cell_type": "markdown",
      "source": [
        "We can also calculate the MSE:\n"
      ],
      "metadata": {
        "id": "qTP2-onSlnY7"
      }
    },
    {
      "cell_type": "code",
      "source": [
        "mean_squared_error(df['price'], p(x))"
      ],
      "metadata": {
        "id": "bGmtnW7VlnY7",
        "outputId": "126cf33c-6524-45c2-d558-5f632b672c6f",
        "colab": {
          "base_uri": "https://localhost:8080/"
        }
      },
      "execution_count": 60,
      "outputs": [
        {
          "output_type": "execute_result",
          "data": {
            "text/plain": [
              "20474146.426361218"
            ]
          },
          "metadata": {},
          "execution_count": 60
        }
      ]
    },
    {
      "cell_type": "markdown",
      "source": [
        "<h2>5. Prediction and Decision Making</h2>\n",
        "<h3>Prediction</h3>\n",
        "\n",
        "<p>In the previous section, we trained the model using the method <b>fit</b>. Now we will use the method <b>predict</b> to produce a prediction. Lets import <b>pyplot</b> for plotting; we will also be using some functions from numpy.</p>\n"
      ],
      "metadata": {
        "id": "TkyaL7WHlnY7"
      }
    },
    {
      "cell_type": "code",
      "source": [
        "import matplotlib.pyplot as plt\n",
        "import numpy as np\n",
        "\n",
        "%matplotlib inline "
      ],
      "metadata": {
        "id": "NDOFhuQ7lnY7"
      },
      "execution_count": 61,
      "outputs": []
    },
    {
      "cell_type": "markdown",
      "source": [
        "Create a new input:\n"
      ],
      "metadata": {
        "id": "nNvndHUGlnY7"
      }
    },
    {
      "cell_type": "code",
      "source": [
        "new_input=np.arange(1, 100, 1).reshape(-1, 1)"
      ],
      "metadata": {
        "id": "45zLk5GKlnY7"
      },
      "execution_count": 62,
      "outputs": []
    },
    {
      "cell_type": "markdown",
      "source": [
        "Fit the model:\n"
      ],
      "metadata": {
        "id": "uP3EiiQ-lnY7"
      }
    },
    {
      "cell_type": "code",
      "source": [
        "lm.fit(X, Y)\n",
        "lm"
      ],
      "metadata": {
        "id": "wjsrf3s7lnY7",
        "outputId": "af193298-56dc-48ca-cebc-7a245c33d100",
        "colab": {
          "base_uri": "https://localhost:8080/"
        }
      },
      "execution_count": 63,
      "outputs": [
        {
          "output_type": "execute_result",
          "data": {
            "text/plain": [
              "LinearRegression()"
            ]
          },
          "metadata": {},
          "execution_count": 63
        }
      ]
    },
    {
      "cell_type": "markdown",
      "source": [
        "Produce a prediction:\n"
      ],
      "metadata": {
        "id": "p5nRQulZlnY7"
      }
    },
    {
      "cell_type": "code",
      "source": [
        "yhat=lm.predict(new_input)\n",
        "yhat[0:5]"
      ],
      "metadata": {
        "id": "0Mpxqu0SlnY7",
        "outputId": "fb5405db-2f4a-4236-a322-1993cf64f199",
        "colab": {
          "base_uri": "https://localhost:8080/"
        }
      },
      "execution_count": 64,
      "outputs": [
        {
          "output_type": "stream",
          "name": "stderr",
          "text": [
            "/usr/local/lib/python3.8/dist-packages/sklearn/base.py:450: UserWarning: X does not have valid feature names, but LinearRegression was fitted with feature names\n",
            "  warnings.warn(\n"
          ]
        },
        {
          "output_type": "execute_result",
          "data": {
            "text/plain": [
              "array([37601.57247984, 36779.83910151, 35958.10572319, 35136.37234487,\n",
              "       34314.63896655])"
            ]
          },
          "metadata": {},
          "execution_count": 64
        }
      ]
    },
    {
      "cell_type": "markdown",
      "source": [
        "We can plot the data:\n"
      ],
      "metadata": {
        "id": "xVCNVqjolnY7"
      }
    },
    {
      "cell_type": "code",
      "source": [
        "plt.plot(new_input, yhat)\n",
        "plt.show()"
      ],
      "metadata": {
        "id": "BLYz9PvHlnY8",
        "outputId": "7bafb078-9b55-48c8-ca96-d11c5c5bdd10",
        "colab": {
          "base_uri": "https://localhost:8080/",
          "height": 265
        }
      },
      "execution_count": 65,
      "outputs": [
        {
          "output_type": "display_data",
          "data": {
            "text/plain": [
              "<Figure size 432x288 with 1 Axes>"
            ],
            "image/png": "[encoded data removed]"
          },
          "metadata": {
            "needs_background": "light"
          }
        }
      ]
    },
    {
      "cell_type": "markdown",
      "source": [
        "<h3>Decision Making: Determining a Good Model Fit</h3>\n"
      ],
      "metadata": {
        "id": "AkyxY5lilnY8"
      }
    },
    {
      "cell_type": "markdown",
      "source": [
        "<p>Now that we have visualized the different models, and generated the R-squared and MSE values for the fits, how do we determine a good model fit?\n",
        "<ul>\n",
        "    <li><i>What is a good R-squared value?</i></li>\n",
        "</ul>\n",
        "</p>\n",
        "\n",
        "<p>When comparing models, <b>the model with the higher R-squared value is a better fit</b> for the data.\n",
        "<ul>\n",
        "    <li><i>What is a good MSE?</i></li>\n",
        "</ul>\n",
        "</p>\n",
        "\n",
        "<p>When comparing models, <b>the model with the smallest MSE value is a better fit</b> for the data.</p>\n",
        "\n",
        "<h4>Let's take a look at the values for the different models.</h4>\n",
        "<p>Simple Linear Regression: Using Highway-mpg as a Predictor Variable of Price.\n",
        "<ul>\n",
        "    <li>R-squared: 0.49659118843391759</li>\n",
        "    <li>MSE: 3.16 x10^7</li>\n",
        "</ul>\n",
        "</p>\n",
        "\n",
        "<p>Multiple Linear Regression: Using Horsepower, Curb-weight, Engine-size, and Highway-mpg as Predictor Variables of Price.\n",
        "<ul>\n",
        "    <li>R-squared: 0.80896354913783497</li>\n",
        "    <li>MSE: 1.2 x10^7</li>\n",
        "</ul>\n",
        "</p>\n",
        "\n",
        "<p>Polynomial Fit: Using Highway-mpg as a Predictor Variable of Price.\n",
        "<ul>\n",
        "    <li>R-squared: 0.6741946663906514</li>\n",
        "    <li>MSE: 2.05 x 10^7</li>\n",
        "</ul>\n",
        "</p>\n"
      ],
      "metadata": {
        "id": "h4YNwlCelnY8"
      }
    },
    {
      "cell_type": "markdown",
      "source": [
        "<h3>Simple Linear Regression Model (SLR) vs Multiple Linear Regression Model (MLR)</h3>\n"
      ],
      "metadata": {
        "id": "WINq8GvulnY8"
      }
    },
    {
      "cell_type": "markdown",
      "source": [
        "<p>Usually, the more variables you have, the better your model is at predicting, but this is not always true. Sometimes you may not have enough data, you may run into numerical problems, or many of the variables may not be useful and even act as noise. As a result, you should always check the MSE and R^2.</p>\n",
        "\n",
        "<p>In order to compare the results of the MLR vs SLR models, we look at a combination of both the R-squared and MSE to make the best conclusion about the fit of the model.\n",
        "<ul>\n",
        "    <li><b>MSE</b>: The MSE of SLR is  3.16x10^7  while MLR has an MSE of 1.2 x10^7.  The MSE of MLR is much smaller.</li>\n",
        "    <li><b>R-squared</b>: In this case, we can also see that there is a big difference between the R-squared of the SLR and the R-squared of the MLR. The R-squared for the SLR (~0.497) is very small compared to the R-squared for the MLR (~0.809).</li>\n",
        "</ul>\n",
        "</p>\n",
        "\n",
        "This R-squared in combination with the MSE show that MLR seems like the better model fit in this case compared to SLR.\n"
      ],
      "metadata": {
        "id": "ceePDBGdlnY8"
      }
    },
    {
      "cell_type": "markdown",
      "source": [
        "<h3>Simple Linear Model (SLR) vs. Polynomial Fit</h3>\n"
      ],
      "metadata": {
        "id": "NWT-2ckflnY8"
      }
    },
    {
      "cell_type": "markdown",
      "source": [
        "<ul>\n",
        "    <li><b>MSE</b>: We can see that Polynomial Fit brought down the MSE, since this MSE is smaller than the one from the SLR.</li> \n",
        "    <li><b>R-squared</b>: The R-squared for the Polynomial Fit is larger than the R-squared for the SLR, so the Polynomial Fit also brought up the R-squared quite a bit.</li>\n",
        "</ul>\n",
        "<p>Since the Polynomial Fit resulted in a lower MSE and a higher R-squared, we can conclude that this was a better fit model than the simple linear regression for predicting \"price\" with \"highway-mpg\" as a predictor variable.</p>\n"
      ],
      "metadata": {
        "id": "pEjiaSW6lnY8"
      }
    },
    {
      "cell_type": "markdown",
      "source": [
        "<h3>Multiple Linear Regression (MLR) vs. Polynomial Fit</h3>\n"
      ],
      "metadata": {
        "id": "iywgriETlnY8"
      }
    },
    {
      "cell_type": "markdown",
      "source": [
        "<ul>\n",
        "    <li><b>MSE</b>: The MSE for the MLR is smaller than the MSE for the Polynomial Fit.</li>\n",
        "    <li><b>R-squared</b>: The R-squared for the MLR is also much larger than for the Polynomial Fit.</li>\n",
        "</ul>\n"
      ],
      "metadata": {
        "id": "JdarXRsElnY8"
      }
    },
    {
      "cell_type": "markdown",
      "source": [
        "<h2>Conclusion</h2>\n"
      ],
      "metadata": {
        "id": "9yTdUeP_lnY8"
      }
    },
    {
      "cell_type": "markdown",
      "source": [
        "<p>Comparing these three models, we conclude that <b>the MLR model is the best model</b> to be able to predict price from our dataset. This result makes sense since we have 27 variables in total and we know that more than one of those variables are potential predictors of the final car price.</p>\n"
      ],
      "metadata": {
        "id": "TKtyqRwulnY8"
      }
    },
    {
      "cell_type": "markdown",
      "source": [
        "### Thank you for completing this lab!\n",
        "\n",
        "## Author\n",
        "\n",
        "<a href=\"https://www.linkedin.com/in/joseph-s-50398b136/?utm_medium=Exinfluencer&utm_source=Exinfluencer&utm_content=000026UJ&utm_term=10006555&utm_id=NA-SkillsNetwork-Channel-SkillsNetworkCoursesIBMDeveloperSkillsNetworkDA0101ENSkillsNetwork20235326-2022-01-01\" target=\"_blank\">Joseph Santarcangelo</a>\n",
        "\n",
        "### Other Contributors\n",
        "\n",
        "<a href=\"https://www.linkedin.com/in/mahdi-noorian-58219234/?utm_medium=Exinfluencer&utm_source=Exinfluencer&utm_content=000026UJ&utm_term=10006555&utm_id=NA-SkillsNetwork-Channel-SkillsNetworkCoursesIBMDeveloperSkillsNetworkDA0101ENSkillsNetwork20235326-2022-01-01\" target=\"_blank\">Mahdi Noorian PhD</a>\n",
        "\n",
        "Bahare Talayian\n",
        "\n",
        "Eric Xiao\n",
        "\n",
        "Steven Dong\n",
        "\n",
        "Parizad\n",
        "\n",
        "Hima Vasudevan\n",
        "\n",
        "<a href=\"https://www.linkedin.com/in/fiorellawever/?utm_medium=Exinfluencer&utm_source=Exinfluencer&utm_content=000026UJ&utm_term=10006555&utm_id=NA-SkillsNetwork-Channel-SkillsNetworkCoursesIBMDeveloperSkillsNetworkDA0101ENSkillsNetwork20235326-2022-01-01\" target=\"_blank\">Fiorella Wenver</a>\n",
        "\n",
        "<a href=\"https:// https://www.linkedin.com/in/yi-leng-yao-84451275/ \" target=\"_blank\" >Yi Yao</a>.\n",
        "\n",
        "## Change Log\n",
        "\n",
        "| Date (YYYY-MM-DD) | Version | Changed By | Change Description                            |\n",
        "| ----------------- | ------- | ---------- | --------------------------------------------- |\n",
        "| 2020-10-30        | 2.2     | Lakshmi    | Changed url of csv                            |\n",
        "| 2020-09-09        | 2.1     | Lakshmi    | Fixes made in Polynomial Regression Equations |\n",
        "| 2020-08-27        | 2.0     | Lavanya    | Moved lab to course repo in GitLab            |\n",
        "\n",
        "<hr>\n",
        "\n",
        "## <h3 align=\"center\"> © IBM Corporation 2020. All rights reserved. <h3/>\n"
      ],
      "metadata": {
        "id": "qRY5O0imlnY9"
      }
    }
  ]
}