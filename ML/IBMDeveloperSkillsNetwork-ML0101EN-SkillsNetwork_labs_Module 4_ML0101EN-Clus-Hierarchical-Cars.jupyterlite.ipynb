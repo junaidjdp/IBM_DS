{
  "metadata": {
    "kernelspec": {
      "name": "python",
      "display_name": "Pyolite",
      "language": "python"
    },
    "language_info": {
      "codemirror_mode": {
        "name": "python",
        "version": 3
      },
      "file_extension": ".py",
      "mimetype": "text/x-python",
      "name": "python",
      "nbconvert_exporter": "python",
      "pygments_lexer": "ipython3",
      "version": "3.8"
    },
    "colab": {
      "provenance": []
    }
  },
  "nbformat_minor": 0,
  "nbformat": 4,
  "cells": [
    {
      "cell_type": "markdown",
      "source": [
        "<p style=\"text-align:center\">\n",
        "    <a href=\"https://skills.network/?utm_medium=Exinfluencer&utm_source=Exinfluencer&utm_content=000026UJ&utm_term=10006555&utm_id=NA-SkillsNetwork-Channel-SkillsNetworkCoursesIBMDeveloperSkillsNetworkML0101ENSkillsNetwork20718538-2022-01-01\" target=\"_blank\">\n",
        "    <img src=\"https://cf-courses-data.s3.us.cloud-object-storage.appdomain.cloud/assets/logos/SN_web_lightmode.png\" width=\"200\" alt=\"Skills Network Logo\"  />\n",
        "    </a>\n",
        "</p>\n",
        "\n",
        "# Hierarchical Clustering\n",
        "\n",
        "Estimated time needed: **25** minutes\n",
        "\n",
        "## Objectives\n",
        "\n",
        "After completing this lab you will be able to:\n",
        "\n",
        "*   Use scikit-learn to do Hierarchical clustering\n",
        "*   Create dendograms to visualize the clustering\n"
      ],
      "metadata": {
        "id": "PAmYIiu-OY__"
      }
    },
    {
      "cell_type": "markdown",
      "source": [
        "<h1>Table of contents</h1>\n",
        "\n",
        "<div class=\"alert alert-block alert-info\" style=\"margin-top: 20px\">\n",
        "    <ol>\n",
        "        <li><a href=\"https://#hierarchical_agglomerative\">Hierarchical Clustering - Agglomerative</a></li>\n",
        "            <ol>\n",
        "                <li><a href=\"https://#generating_data\">Generating Random Data</a></li>\n",
        "                <li><a href=\"https://#agglomerative_clustering\">Agglomerative Clustering</a></li>\n",
        "                <li><a href=\"https://#dendrogram\">Dendrogram Associated for the Agglomerative Hierarchical Clustering</a></li>\n",
        "            </ol>            \n",
        "        <li><a href=\"https://#clustering_vehicle_dataset\">Clustering on the Vehicle Dataset</a></li>\n",
        "            <ol>\n",
        "                <li><a href=\"https://#data_cleaning\">Data Cleaning</a></li>\n",
        "                <li><a href=\"https://#clustering_using_scipy\">Clustering Using Scipy</a></li>\n",
        "                <li><a href=\"https://#clustering_using_skl\">Clustering using scikit-learn</a></li>\n",
        "            </ol>\n",
        "    </ol>\n",
        "</div>\n",
        "<br>\n",
        "<hr>\n"
      ],
      "metadata": {
        "id": "7ZXacQotOZAD"
      }
    },
    {
      "cell_type": "markdown",
      "source": [
        "<h1 id=\"hierarchical_agglomerative\">Hierarchical Clustering - Agglomerative</h1>\n",
        "\n",
        "We will be looking at a clustering technique, which is <b>Agglomerative Hierarchical Clustering</b>. Remember that agglomerative is the bottom up approach. <br> <br>\n",
        "In this lab, we will be looking at Agglomerative clustering, which is more popular than Divisive clustering. <br> <br>\n",
        "We will also be using Complete Linkage as the Linkage Criteria. <br> <b> <i> NOTE: You can also try using Average Linkage wherever Complete Linkage would be used to see the difference! </i> </b>\n"
      ],
      "metadata": {
        "id": "pYhaNPeyOZAE"
      }
    },
    {
      "cell_type": "code",
      "source": [
        "# import piplite\n",
        "# await piplite.install(['pandas'])\n",
        "# await piplite.install(['matplotlib'])\n",
        "# await piplite.install(['scipy'])\n"
      ],
      "metadata": {
        "trusted": true,
        "id": "oBHF-ZMzOZAF"
      },
      "execution_count": 1,
      "outputs": []
    },
    {
      "cell_type": "code",
      "source": [
        "import numpy as np \n",
        "import pandas as pd\n",
        "from scipy import ndimage \n",
        "from scipy.cluster import hierarchy \n",
        "from scipy.spatial import distance_matrix \n",
        "from matplotlib import pyplot as plt \n",
        "from sklearn import manifold, datasets \n",
        "from sklearn.cluster import AgglomerativeClustering \n",
        "from sklearn.datasets import make_blobs \n",
        "%matplotlib inline"
      ],
      "metadata": {
        "trusted": true,
        "id": "AvLLHXQjOZAG"
      },
      "execution_count": 2,
      "outputs": []
    },
    {
      "cell_type": "code",
      "source": [],
      "metadata": {
        "id": "KOm6P3AJOZAG"
      },
      "execution_count": 2,
      "outputs": []
    },
    {
      "cell_type": "code",
      "source": [
        "# from pyodide.http import pyfetch\n",
        "\n",
        "# async def download(url, filename):\n",
        "#     response = await pyfetch(url)\n",
        "#     if response.status == 200:\n",
        "#         with open(filename, \"wb\") as f:\n",
        "#             f.write(await response.bytes())"
      ],
      "metadata": {
        "trusted": true,
        "id": "XFhZ-v4FOZAH"
      },
      "execution_count": 3,
      "outputs": []
    },
    {
      "cell_type": "markdown",
      "source": [
        "<hr>\n",
        "<h3 id=\"generating_data\">Generating Random Data</h3>\n",
        "We will be generating a set of data using the <b>make_blobs</b> class. <br> <br>\n",
        "Input these parameters into make_blobs:\n",
        "<ul>\n",
        "    <li> <b>n_samples</b>: The total number of points equally divided among clusters. </li>\n",
        "    <ul> <li> Choose a number from 10-1500 </li> </ul>\n",
        "    <li> <b>centers</b>: The number of centers to generate, or the fixed center locations. </li>\n",
        "    <ul> <li> Choose arrays of x,y coordinates for generating the centers. Have 1-10 centers (ex. centers=[[1,1], [2,5]]) </li> </ul>\n",
        "    <li> <b>cluster_std</b>: The standard deviation of the clusters. The larger the number, the further apart the clusters</li>\n",
        "    <ul> <li> Choose a number between 0.5-1.5 </li> </ul>\n",
        "</ul> <br>\n",
        "Save the result to <b>X1</b> and <b>y1</b>.\n"
      ],
      "metadata": {
        "id": "poegEe38OZAH"
      }
    },
    {
      "cell_type": "code",
      "source": [
        "X1, y1 = make_blobs(n_samples=50, centers=[[4,4], [-2, -1], [1, 1], [10,4]], cluster_std=0.9)"
      ],
      "metadata": {
        "trusted": true,
        "id": "j4_CoHeHOZAI"
      },
      "execution_count": 4,
      "outputs": []
    },
    {
      "cell_type": "markdown",
      "source": [
        "Plot the scatter plot of the randomly generated data.\n"
      ],
      "metadata": {
        "id": "Erger980OZAJ"
      }
    },
    {
      "cell_type": "code",
      "source": [
        "plt.scatter(X1[:, 0], X1[:, 1], marker='o') "
      ],
      "metadata": {
        "trusted": true,
        "id": "TnT446TWOZAJ",
        "outputId": "cd19649e-10e9-4f39-dc42-d6fcafc0541e",
        "colab": {
          "base_uri": "https://localhost:8080/",
          "height": 282
        }
      },
      "execution_count": 5,
      "outputs": [
        {
          "output_type": "execute_result",
          "data": {
            "text/plain": [
              "<matplotlib.collections.PathCollection at 0x7f75974d98e0>"
            ]
          },
          "metadata": {},
          "execution_count": 5
        },
        {
          "output_type": "display_data",
          "data": {
            "text/plain": [
              "<Figure size 432x288 with 1 Axes>"
            ],
            "image/png": "[encoded data removed]"
          },
          "metadata": {
            "needs_background": "light"
          }
        }
      ]
    },
    {
      "cell_type": "markdown",
      "source": [
        "<hr>\n",
        "<h3 id=\"agglomerative_clustering\">Agglomerative Clustering</h3>\n",
        "\n",
        "We will start by clustering the random data points we just created.\n"
      ],
      "metadata": {
        "id": "X3Qf0eCiOZAJ"
      }
    },
    {
      "cell_type": "markdown",
      "source": [
        "The <b> Agglomerative Clustering </b> class will require two inputs:\n",
        "\n",
        "<ul>\n",
        "    <li> <b>n_clusters</b>: The number of clusters to form as well as the number of centroids to generate. </li>\n",
        "    <ul> <li> Value will be: 4 </li> </ul>\n",
        "    <li> <b>linkage</b>: Which linkage criterion to use. The linkage criterion determines which distance to use between sets of observation. The algorithm will merge the pairs of cluster that minimize this criterion. </li>\n",
        "    <ul> \n",
        "        <li> Value will be: 'complete' </li> \n",
        "        <li> <b>Note</b>: It is recommended you try everything with 'average' as well </li>\n",
        "    </ul>\n",
        "</ul> <br>\n",
        "Save the result to a variable called <b> agglom </b>.\n"
      ],
      "metadata": {
        "id": "EYbv-kOROZAJ"
      }
    },
    {
      "cell_type": "code",
      "source": [
        "agglom = AgglomerativeClustering(n_clusters = 4, linkage = 'average')"
      ],
      "metadata": {
        "trusted": true,
        "id": "XoamLYKYOZAK"
      },
      "execution_count": 6,
      "outputs": []
    },
    {
      "cell_type": "markdown",
      "source": [
        "Fit the model with <b> X2 </b> and <b> y2 </b> from the generated data above.\n"
      ],
      "metadata": {
        "id": "hOG88wjFOZAK"
      }
    },
    {
      "cell_type": "code",
      "source": [
        "agglom.fit(X1,y1)"
      ],
      "metadata": {
        "scrolled": true,
        "trusted": true,
        "id": "MtKCEXBGOZAK",
        "outputId": "0e7939d8-e9d0-4218-93f6-e5f2b8016bab",
        "colab": {
          "base_uri": "https://localhost:8080/"
        }
      },
      "execution_count": 7,
      "outputs": [
        {
          "output_type": "execute_result",
          "data": {
            "text/plain": [
              "AgglomerativeClustering(linkage='average', n_clusters=4)"
            ]
          },
          "metadata": {},
          "execution_count": 7
        }
      ]
    },
    {
      "cell_type": "markdown",
      "source": [
        "Run the following code to show the clustering! <br>\n",
        "Remember to read the code and comments to gain more understanding on how the plotting works.\n"
      ],
      "metadata": {
        "id": "Ko3nfou9OZAK"
      }
    },
    {
      "cell_type": "code",
      "source": [
        "# Create a figure of size 6 inches by 4 inches.\n",
        "plt.figure(figsize=(6,4))\n",
        "\n",
        "# These two lines of code are used to scale the data points down,\n",
        "# Or else the data points will be scattered very far apart.\n",
        "\n",
        "# Create a minimum and maximum range of X1.\n",
        "x_min, x_max = np.min(X1, axis=0), np.max(X1, axis=0)\n",
        "\n",
        "# Get the average distance for X1.\n",
        "X1 = (X1 - x_min) / (x_max - x_min)\n",
        "\n",
        "# This loop displays all of the datapoints.\n",
        "for i in range(X1.shape[0]):\n",
        "    # Replace the data points with their respective cluster value \n",
        "    # (ex. 0) and is color coded with a colormap (plt.cm.spectral)\n",
        "    plt.text(X1[i, 0], X1[i, 1], str(y1[i]),\n",
        "             color=plt.cm.nipy_spectral(agglom.labels_[i] / 10.),\n",
        "             fontdict={'weight': 'bold', 'size': 9})\n",
        "    \n",
        "# Remove the x ticks, y ticks, x and y axis\n",
        "plt.xticks([])\n",
        "plt.yticks([])\n",
        "#plt.axis('off')\n",
        "\n",
        "\n",
        "\n",
        "# Display the plot of the original data before clustering\n",
        "plt.scatter(X1[:, 0], X1[:, 1], marker='.')\n",
        "# Display the plot\n",
        "plt.show()"
      ],
      "metadata": {
        "trusted": true,
        "id": "Mry2tpsjOZAK",
        "outputId": "667b7d68-86ac-4227-ff21-0055750e964d",
        "colab": {
          "base_uri": "https://localhost:8080/",
          "height": 252
        }
      },
      "execution_count": 8,
      "outputs": [
        {
          "output_type": "display_data",
          "data": {
            "text/plain": [
              "<Figure size 432x288 with 1 Axes>"
            ],
            "image/png": "[encoded data removed]"
          },
          "metadata": {}
        }
      ]
    },
    {
      "cell_type": "markdown",
      "source": [
        "<h3 id=\"dendrogram\">Dendrogram Associated for the Agglomerative Hierarchical Clustering</h3>\n",
        "\n",
        "Remember that a <b>distance matrix</b> contains the <b> distance from each point to every other point of a dataset </b>.\n",
        "\n",
        "Use the function <b> distance_matrix, </b> which requires <b>two inputs</b>. Use the Feature Matrix, <b> X1 </b> as both inputs and save the distance matrix to a variable called <b> dist_matrix </b> <br> <br>\n",
        "Remember that the distance values are symmetric, with a diagonal of 0's. This is one way of making sure your matrix is correct. <br> (print out dist_matrix to make sure it's correct)\n"
      ],
      "metadata": {
        "id": "2i2DEhFROZAL"
      }
    },
    {
      "cell_type": "code",
      "source": [
        "dist_matrix = distance_matrix(X1,X1) \n",
        "print(dist_matrix)"
      ],
      "metadata": {
        "scrolled": true,
        "trusted": true,
        "id": "noWbNgu0OZAL",
        "outputId": "4e007c27-60a7-411c-fbf2-ffc82609dfd0",
        "colab": {
          "base_uri": "https://localhost:8080/"
        }
      },
      "execution_count": 9,
      "outputs": [
        {
          "output_type": "stream",
          "name": "stdout",
          "text": [
            "[[0.         0.66423267 0.07500093 ... 0.39416765 0.25059396 0.34319171]\n",
            " [0.66423267 0.         0.68003136 ... 0.31782999 0.41445665 0.36950738]\n",
            " [0.07500093 0.68003136 0.         ... 0.38845218 0.27688915 0.33430433]\n",
            " ...\n",
            " [0.39416765 0.31782999 0.38845218 ... 0.         0.18883077 0.05505829]\n",
            " [0.25059396 0.41445665 0.27688915 ... 0.18883077 0.         0.16015423]\n",
            " [0.34319171 0.36950738 0.33430433 ... 0.05505829 0.16015423 0.        ]]\n"
          ]
        }
      ]
    },
    {
      "cell_type": "markdown",
      "source": [
        "Using the <b> linkage </b> class from hierarchy, pass in the parameters:\n",
        "\n",
        "<ul>\n",
        "    <li> The distance matrix </li>\n",
        "    <li> 'complete' for complete linkage </li>\n",
        "</ul> <br>\n",
        "Save the result to a variable called <b> Z </b>.\n"
      ],
      "metadata": {
        "id": "ZX9uqjEOOZAL"
      }
    },
    {
      "cell_type": "code",
      "source": [
        "Z = hierarchy.linkage(dist_matrix, 'complete')"
      ],
      "metadata": {
        "trusted": true,
        "id": "9BoxxHiVOZAL",
        "outputId": "f82d3a3a-abf4-49a8-c731-dccdf16e449f",
        "colab": {
          "base_uri": "https://localhost:8080/"
        }
      },
      "execution_count": 10,
      "outputs": [
        {
          "output_type": "stream",
          "name": "stderr",
          "text": [
            "<ipython-input-10-3814b774a052>:1: ClusterWarning: scipy.cluster: The symmetric non-negative hollow observation matrix looks suspiciously like an uncondensed distance matrix\n",
            "  Z = hierarchy.linkage(dist_matrix, 'complete')\n"
          ]
        }
      ]
    },
    {
      "cell_type": "markdown",
      "source": [
        "A Hierarchical clustering is typically visualized as a dendrogram as shown in the following cell. Each merge is represented by a horizontal line. The y-coordinate of the horizontal line is the similarity of the two clusters that were merged, where cities are viewed as singleton clusters.\n",
        "By moving up from the bottom layer to the top node, a dendrogram allows us to reconstruct the history of merges that resulted in the depicted clustering.\n",
        "\n",
        "Next, we will save the dendrogram to a variable called <b>dendro</b>. In doing this, the dendrogram will also be displayed.\n",
        "Using the <b> dendrogram </b> class from hierarchy, pass in the parameter:\n",
        "\n",
        "<ul> <li> Z </li> </ul>\n"
      ],
      "metadata": {
        "id": "gGEmfTdNOZAL"
      }
    },
    {
      "cell_type": "code",
      "source": [
        "dendro = hierarchy.dendrogram(Z)"
      ],
      "metadata": {
        "trusted": true,
        "id": "QfGdROgfOZAM",
        "outputId": "1717bebc-10b9-4961-eb89-ddadd4546763",
        "colab": {
          "base_uri": "https://localhost:8080/",
          "height": 266
        }
      },
      "execution_count": 11,
      "outputs": [
        {
          "output_type": "display_data",
          "data": {
            "text/plain": [
              "<Figure size 432x288 with 1 Axes>"
            ],
            "image/png": "[encoded data removed]"
          },
          "metadata": {
            "needs_background": "light"
          }
        }
      ]
    },
    {
      "cell_type": "markdown",
      "source": [
        "## Practice\n",
        "\n",
        "We used **complete** linkage for our case, change it to **average** linkage to see how the dendogram changes.\n"
      ],
      "metadata": {
        "id": "DtWfeY2KOZAM"
      }
    },
    {
      "cell_type": "code",
      "source": [
        "# write your code here\n",
        "Z = hierarchy.linkage(dist_matrix, 'average')\n",
        "dendro = hierarchy.dendrogram(Z)"
      ],
      "metadata": {
        "trusted": true,
        "id": "-4_7aun2OZAM",
        "outputId": "e234cbae-970e-4044-b835-85c9208fb110",
        "colab": {
          "base_uri": "https://localhost:8080/",
          "height": 321
        }
      },
      "execution_count": 12,
      "outputs": [
        {
          "output_type": "stream",
          "name": "stderr",
          "text": [
            "<ipython-input-12-7bfb60ae81cf>:2: ClusterWarning: scipy.cluster: The symmetric non-negative hollow observation matrix looks suspiciously like an uncondensed distance matrix\n",
            "  Z = hierarchy.linkage(dist_matrix, 'average')\n"
          ]
        },
        {
          "output_type": "display_data",
          "data": {
            "text/plain": [
              "<Figure size 432x288 with 1 Axes>"
            ],
            "image/png": "[encoded data removed]"
          },
          "metadata": {
            "needs_background": "light"
          }
        }
      ]
    },
    {
      "cell_type": "markdown",
      "source": [
        "<details><summary>Click here for the solution</summary>\n",
        "\n",
        "```python\n",
        "Z = hierarchy.linkage(dist_matrix, 'average')\n",
        "dendro = hierarchy.dendrogram(Z)\n",
        "\n",
        "```\n",
        "\n",
        "</details>\n"
      ],
      "metadata": {
        "id": "Jeu7oXtyOZAM"
      }
    },
    {
      "cell_type": "markdown",
      "source": [
        "<hr>\n",
        "<h1 id=\"clustering_vehicle_dataset\">Clustering on Vehicle dataset</h1>\n",
        "\n",
        "Imagine that an automobile manufacturer has developed prototypes for a new vehicle. Before introducing the new model into its range, the manufacturer wants to determine which existing vehicles on the market are most like the prototypes--that is, how vehicles can be grouped, which group is the most similar with the model, and therefore which models they will be competing against.\n",
        "\n",
        "Our objective here, is to use clustering methods, to find the most distinctive clusters of vehicles. It will summarize the existing vehicles and help manufacturers to make decision about the supply of new models.\n"
      ],
      "metadata": {
        "id": "dF7-jOvQOZAM"
      }
    },
    {
      "cell_type": "markdown",
      "source": [
        "### Download data\n",
        "\n",
        "To download the data, we will use **`!wget`** to download it from IBM Object Storage.\\\n",
        "**Did you know?** When it comes to Machine Learning, you will likely be working with large datasets. As a business, where can you host your data? IBM is offering a unique opportunity for businesses, with 10 Tb of IBM Cloud Object Storage: [Sign up now for free](http://cocl.us/ML0101EN-IBM-Offer-CC)\n"
      ],
      "metadata": {
        "id": "6GDrWiYuOZAM"
      }
    },
    {
      "cell_type": "code",
      "source": [
        "path=\"https://cf-courses-data.s3.us.cloud-object-storage.appdomain.cloud/IBMDeveloperSkillsNetwork-ML0101EN-SkillsNetwork/labs/Module%204/data/cars_clus.csv\""
      ],
      "metadata": {
        "trusted": true,
        "id": "vJ3IyCcCOZAM"
      },
      "execution_count": null,
      "outputs": []
    },
    {
      "cell_type": "code",
      "source": [
        "await download(path, 'cars_clus.csv')\n",
        "filename ='cars_clus.csv'"
      ],
      "metadata": {
        "trusted": true,
        "id": "ujutLBj2OZAN"
      },
      "execution_count": null,
      "outputs": []
    },
    {
      "cell_type": "markdown",
      "source": [
        "## Read data\n",
        "\n",
        "Let's read dataset to see what features the manufacturer has collected about the existing models.\n"
      ],
      "metadata": {
        "id": "Spgj92BkOZAN"
      }
    },
    {
      "cell_type": "code",
      "source": [
        "filename = 'cars_clus.csv'\n",
        "\n",
        "#Read csv\n",
        "pdf = pd.read_csv(filename)\n",
        "print (\"Shape of dataset: \", pdf.shape)\n",
        "\n",
        "pdf.head(5)"
      ],
      "metadata": {
        "trusted": true,
        "id": "Xx1xjxw5OZAN"
      },
      "execution_count": null,
      "outputs": []
    },
    {
      "cell_type": "markdown",
      "source": [
        "The feature sets include  price in thousands (price), engine size (engine_s), horsepower (horsepow), wheelbase (wheelbas), width (width), length (length), curb weight (curb_wgt), fuel capacity (fuel_cap) and fuel efficiency (mpg).\n"
      ],
      "metadata": {
        "id": "CdaOqB8GOZAN"
      }
    },
    {
      "cell_type": "markdown",
      "source": [
        "<h2 id=\"data_cleaning\">Data Cleaning</h2>\n",
        "\n",
        "Let's clean the dataset by dropping the rows that have null value:\n"
      ],
      "metadata": {
        "id": "LTvD3kpPOZAN"
      }
    },
    {
      "cell_type": "code",
      "source": [
        "print (\"Shape of dataset before cleaning: \", pdf.size)\n",
        "pdf[[ 'sales', 'resale', 'type', 'price', 'engine_s',\n",
        "       'horsepow', 'wheelbas', 'width', 'length', 'curb_wgt', 'fuel_cap',\n",
        "       'mpg', 'lnsales']] = pdf[['sales', 'resale', 'type', 'price', 'engine_s',\n",
        "       'horsepow', 'wheelbas', 'width', 'length', 'curb_wgt', 'fuel_cap',\n",
        "       'mpg', 'lnsales']].apply(pd.to_numeric, errors='coerce')\n",
        "pdf = pdf.dropna()\n",
        "pdf = pdf.reset_index(drop=True)\n",
        "print (\"Shape of dataset after cleaning: \", pdf.size)\n",
        "pdf.head(5)"
      ],
      "metadata": {
        "trusted": true,
        "id": "NumoGsK2OZAN"
      },
      "execution_count": null,
      "outputs": []
    },
    {
      "cell_type": "markdown",
      "source": [
        "### Feature selection\n",
        "\n",
        "Let's select our feature set:\n"
      ],
      "metadata": {
        "id": "Hx0CJ4b5OZAN"
      }
    },
    {
      "cell_type": "code",
      "source": [
        "featureset = pdf[['engine_s',  'horsepow', 'wheelbas', 'width', 'length', 'curb_wgt', 'fuel_cap', 'mpg']]"
      ],
      "metadata": {
        "trusted": true,
        "id": "pcx8ZJ4DOZAO"
      },
      "execution_count": null,
      "outputs": []
    },
    {
      "cell_type": "markdown",
      "source": [
        "### Normalization\n",
        "\n",
        "Now we can normalize the feature set. **MinMaxScaler** transforms features by scaling each feature to a given range. It is by default (0, 1). That is, this estimator scales and translates each feature individually such that it is between zero and one.\n"
      ],
      "metadata": {
        "id": "4MQxFQprOZAO"
      }
    },
    {
      "cell_type": "code",
      "source": [
        "from sklearn.preprocessing import MinMaxScaler\n",
        "x = featureset.values #returns a numpy array\n",
        "min_max_scaler = MinMaxScaler()\n",
        "feature_mtx = min_max_scaler.fit_transform(x)\n",
        "feature_mtx [0:5]"
      ],
      "metadata": {
        "trusted": true,
        "id": "SRkDOYyiOZAO"
      },
      "execution_count": null,
      "outputs": []
    },
    {
      "cell_type": "markdown",
      "source": [
        "<h2 id=\"clustering_using_scipy\">Clustering using Scipy</h2>\n",
        "\n",
        "In this part we use Scipy package to cluster the dataset.\n",
        "\n",
        "First, we calculate the distance matrix.\n"
      ],
      "metadata": {
        "id": "6K4MPoQzOZAO"
      }
    },
    {
      "cell_type": "code",
      "source": [
        "import scipy\n",
        "leng = feature_mtx.shape[0]\n",
        "D = scipy.zeros([leng,leng])\n",
        "for i in range(leng):\n",
        "    for j in range(leng):\n",
        "        D[i,j] = scipy.spatial.distance.euclidean(feature_mtx[i], feature_mtx[j])\n",
        "D"
      ],
      "metadata": {
        "trusted": true,
        "id": "BSjbm_OnOZAO"
      },
      "execution_count": null,
      "outputs": []
    },
    {
      "cell_type": "markdown",
      "source": [
        "In agglomerative clustering, at each iteration, the algorithm must update the distance matrix to reflect the distance of the newly formed cluster with the remaining clusters in the forest.\n",
        "The following methods are supported in Scipy for calculating the distance between the newly formed cluster and each:\n",
        "\\- single\n",
        "\\- complete\n",
        "\\- average\n",
        "\\- weighted\n",
        "\\- centroid\n",
        "\n",
        "We use **complete** for our case, but feel free to change it to see how the results change.\n"
      ],
      "metadata": {
        "id": "qGhF2sFkOZAO"
      }
    },
    {
      "cell_type": "code",
      "source": [
        "import pylab\n",
        "import scipy.cluster.hierarchy\n",
        "Z = hierarchy.linkage(D, 'complete')"
      ],
      "metadata": {
        "trusted": true,
        "id": "B7_6-v0BOZAO"
      },
      "execution_count": null,
      "outputs": []
    },
    {
      "cell_type": "markdown",
      "source": [
        "Essentially, Hierarchical clustering does not require a pre-specified number of clusters. However, in some applications we want a partition of disjoint clusters just as in flat clustering.\n",
        "So you can use a cutting line:\n"
      ],
      "metadata": {
        "id": "kffjduQWOZAO"
      }
    },
    {
      "cell_type": "code",
      "source": [
        "from scipy.cluster.hierarchy import fcluster\n",
        "max_d = 3\n",
        "clusters = fcluster(Z, max_d, criterion='distance')\n",
        "clusters"
      ],
      "metadata": {
        "trusted": true,
        "id": "YyqrOdcCOZAO"
      },
      "execution_count": null,
      "outputs": []
    },
    {
      "cell_type": "markdown",
      "source": [
        "Also, you can determine the number of clusters directly:\n"
      ],
      "metadata": {
        "id": "_M5a3IJzOZAP"
      }
    },
    {
      "cell_type": "code",
      "source": [
        "from scipy.cluster.hierarchy import fcluster\n",
        "k = 5\n",
        "clusters = fcluster(Z, k, criterion='maxclust')\n",
        "clusters\n"
      ],
      "metadata": {
        "trusted": true,
        "id": "WY_rMH-ZOZAP"
      },
      "execution_count": null,
      "outputs": []
    },
    {
      "cell_type": "markdown",
      "source": [
        "Now, plot the dendrogram:\n"
      ],
      "metadata": {
        "id": "zIe2KVKZOZAP"
      }
    },
    {
      "cell_type": "code",
      "source": [
        "fig = pylab.figure(figsize=(18,50))\n",
        "def llf(id):\n",
        "    return '[%s %s %s]' % (pdf['manufact'][id], pdf['model'][id], int(float(pdf['type'][id])) )\n",
        "    \n",
        "dendro = hierarchy.dendrogram(Z,  leaf_label_func=llf, leaf_rotation=0, leaf_font_size =12, orientation = 'right')"
      ],
      "metadata": {
        "trusted": true,
        "id": "1lCJySTQOZAP"
      },
      "execution_count": null,
      "outputs": []
    },
    {
      "cell_type": "markdown",
      "source": [
        "<h2 id=\"clustering_using_skl\">Clustering using scikit-learn</h2>\n",
        "\n",
        "Let's redo it again, but this time using the scikit-learn package:\n"
      ],
      "metadata": {
        "id": "pzdPNc57OZAP"
      }
    },
    {
      "cell_type": "code",
      "source": [
        "from sklearn.metrics.pairwise import euclidean_distances\n",
        "dist_matrix = euclidean_distances(feature_mtx,feature_mtx) \n",
        "print(dist_matrix)"
      ],
      "metadata": {
        "trusted": true,
        "id": "jCoC4Hd6OZAP"
      },
      "execution_count": null,
      "outputs": []
    },
    {
      "cell_type": "code",
      "source": [
        "Z_using_dist_matrix = hierarchy.linkage(dist_matrix, 'complete')"
      ],
      "metadata": {
        "trusted": true,
        "id": "CZU_fvyuOZAP"
      },
      "execution_count": null,
      "outputs": []
    },
    {
      "cell_type": "code",
      "source": [
        "fig = pylab.figure(figsize=(18,50))\n",
        "def llf(id):\n",
        "    return '[%s %s %s]' % (pdf['manufact'][id], pdf['model'][id], int(float(pdf['type'][id])) )\n",
        "    \n",
        "dendro = hierarchy.dendrogram(Z_using_dist_matrix,  leaf_label_func=llf, leaf_rotation=0, leaf_font_size =12, orientation = 'right')"
      ],
      "metadata": {
        "trusted": true,
        "id": "IrGYVduGOZAP"
      },
      "execution_count": null,
      "outputs": []
    },
    {
      "cell_type": "markdown",
      "source": [
        "Now, we can use the 'AgglomerativeClustering' function from scikit-learn library to cluster the dataset. The AgglomerativeClustering performs a hierarchical clustering using a bottom up approach. The linkage criteria determines the metric used for the merge strategy:\n",
        "\n",
        "*   Ward minimizes the sum of squared differences within all clusters. It is a variance-minimizing approach and in this sense is similar to the k-means objective function but tackled with an agglomerative hierarchical approach.\n",
        "*   Maximum or complete linkage minimizes the maximum distance between observations of pairs of clusters.\n",
        "*   Average linkage minimizes the average of the distances between all observations of pairs of clusters.\n"
      ],
      "metadata": {
        "id": "P729hsazOZAP"
      }
    },
    {
      "cell_type": "code",
      "source": [
        "agglom = AgglomerativeClustering(n_clusters = 6, linkage = 'complete')\n",
        "agglom.fit(dist_matrix)\n",
        "\n",
        "agglom.labels_"
      ],
      "metadata": {
        "trusted": true,
        "id": "_fzdJOMjOZAP"
      },
      "execution_count": null,
      "outputs": []
    },
    {
      "cell_type": "markdown",
      "source": [
        "We can add a new field to our dataframe to show the cluster of each row:\n"
      ],
      "metadata": {
        "id": "kTdveWvGOZAQ"
      }
    },
    {
      "cell_type": "code",
      "source": [
        "pdf['cluster_'] = agglom.labels_\n",
        "pdf.head()"
      ],
      "metadata": {
        "trusted": true,
        "id": "oHkBdW40OZAQ"
      },
      "execution_count": null,
      "outputs": []
    },
    {
      "cell_type": "code",
      "source": [
        "import matplotlib.cm as cm\n",
        "n_clusters = max(agglom.labels_)+1\n",
        "colors = cm.rainbow(np.linspace(0, 1, n_clusters))\n",
        "cluster_labels = list(range(0, n_clusters))\n",
        "\n",
        "# Create a figure of size 6 inches by 4 inches.\n",
        "plt.figure(figsize=(16,14))\n",
        "\n",
        "for color, label in zip(colors, cluster_labels):\n",
        "    subset = pdf[pdf.cluster_ == label]\n",
        "    for i in subset.index:\n",
        "            plt.text(subset.horsepow[i], subset.mpg[i],str(subset['model'][i]), rotation=25) \n",
        "    plt.scatter(subset.horsepow, subset.mpg, s= subset.price*10, c=color, label='cluster'+str(label),alpha=0.5)\n",
        "#    plt.scatter(subset.horsepow, subset.mpg)\n",
        "plt.legend()\n",
        "plt.title('Clusters')\n",
        "plt.xlabel('horsepow')\n",
        "plt.ylabel('mpg')"
      ],
      "metadata": {
        "trusted": true,
        "id": "S9gDdcCXOZAQ"
      },
      "execution_count": null,
      "outputs": []
    },
    {
      "cell_type": "markdown",
      "source": [
        "As you can see, we are seeing the distribution of each cluster using the scatter plot, but it is not very clear where is the centroid of each cluster. Moreover, there are 2 types of vehicles in our dataset, \"truck\" (value of 1 in the type column) and \"car\" (value of 0 in the type column). So, we use them to distinguish the classes, and summarize the cluster. First we count the number of cases in each group:\n"
      ],
      "metadata": {
        "id": "DDGfoPYAOZAQ"
      }
    },
    {
      "cell_type": "code",
      "source": [
        "pdf.groupby(['cluster_','type'])['cluster_'].count()"
      ],
      "metadata": {
        "trusted": true,
        "id": "v_BSXB2MOZAQ"
      },
      "execution_count": null,
      "outputs": []
    },
    {
      "cell_type": "markdown",
      "source": [
        "Now we can look at the characteristics of each cluster:\n"
      ],
      "metadata": {
        "id": "IR-r4Q5HOZAQ"
      }
    },
    {
      "cell_type": "code",
      "source": [
        "agg_cars = pdf.groupby(['cluster_','type'])['horsepow','engine_s','mpg','price'].mean()\n",
        "agg_cars"
      ],
      "metadata": {
        "trusted": true,
        "id": "hDBZM3tgOZAQ"
      },
      "execution_count": null,
      "outputs": []
    },
    {
      "cell_type": "markdown",
      "source": [
        "It is obvious that we have 3 main clusters with the majority of vehicles in those.\n",
        "\n",
        "**Cars**:\n",
        "\n",
        "*   Cluster 1: with almost high mpg, and low in horsepower.\n",
        "\n",
        "*   Cluster 2: with good mpg and horsepower, but higher price than average.\n",
        "\n",
        "*   Cluster 3: with low mpg, high horsepower, highest price.\n",
        "\n",
        "**Trucks**:\n",
        "\n",
        "*   Cluster 1: with almost highest mpg among trucks, and lowest in horsepower and price.\n",
        "*   Cluster 2: with almost low mpg and medium horsepower, but higher price than average.\n",
        "*   Cluster 3: with good mpg and horsepower, low price.\n",
        "\n",
        "Please notice that we did not use **type**  and **price** of cars in the clustering process, but Hierarchical clustering could forge the clusters and discriminate them with quite a high accuracy.\n"
      ],
      "metadata": {
        "id": "gRT8zNoMOZAQ"
      }
    },
    {
      "cell_type": "code",
      "source": [
        "plt.figure(figsize=(16,10))\n",
        "for color, label in zip(colors, cluster_labels):\n",
        "    subset = agg_cars.loc[(label,),]\n",
        "    for i in subset.index:\n",
        "        plt.text(subset.loc[i][0]+5, subset.loc[i][2], 'type='+str(int(i)) + ', price='+str(int(subset.loc[i][3]))+'k')\n",
        "    plt.scatter(subset.horsepow, subset.mpg, s=subset.price*20, c=color, label='cluster'+str(label))\n",
        "plt.legend()\n",
        "plt.title('Clusters')\n",
        "plt.xlabel('horsepow')\n",
        "plt.ylabel('mpg')\n"
      ],
      "metadata": {
        "trusted": true,
        "id": "zC7rNB7kOZAR"
      },
      "execution_count": null,
      "outputs": []
    },
    {
      "cell_type": "markdown",
      "source": [
        "<h2>Want to learn more?</h2>\n",
        "\n",
        "IBM SPSS Modeler is a comprehensive analytics platform that has many machine learning algorithms. It has been designed to bring predictive intelligence to decisions made by individuals, by groups, by systems – by your enterprise as a whole. A free trial is available through this course, available here: <a href=\"https://www.ibm.com/analytics/spss-statistics-software?utm_medium=Exinfluencer&utm_source=Exinfluencer&utm_content=000026UJ&utm_term=10006555&utm_id=NA-SkillsNetwork-Channel-SkillsNetworkCoursesIBMDeveloperSkillsNetworkML0101ENSkillsNetwork20718538-2022-01-01\">SPSS Modeler</a>\n",
        "\n",
        "Also, you can use Watson Studio to run these notebooks faster with bigger datasets. Watson Studio is IBM's leading cloud solution for data scientists, built by data scientists. With Jupyter notebooks, RStudio, Apache Spark and popular libraries pre-packaged in the cloud, Watson Studio enables data scientists to collaborate on their projects without having to install anything. Join the fast-growing community of Watson Studio users today with a free account at <a href=\"https://www.ibm.com/cloud/watson-studio?utm_medium=Exinfluencer&utm_source=Exinfluencer&utm_content=000026UJ&utm_term=10006555&utm_id=NA-SkillsNetwork-Channel-SkillsNetworkCoursesIBMDeveloperSkillsNetworkML0101ENSkillsNetwork20718538-2022-01-01\">Watson Studio</a>\n"
      ],
      "metadata": {
        "id": "WIJGiJQPOZAR"
      }
    },
    {
      "cell_type": "markdown",
      "source": [
        "### Thank you for completing this lab!\n",
        "\n",
        "## Author\n",
        "\n",
        "Saeed Aghabozorgi\n",
        "\n",
        "### Other Contributors\n",
        "\n",
        "<a href=\"https://www.linkedin.com/in/joseph-s-50398b136/?utm_medium=Exinfluencer&utm_source=Exinfluencer&utm_content=000026UJ&utm_term=10006555&utm_id=NA-SkillsNetwork-Channel-SkillsNetworkCoursesIBMDeveloperSkillsNetworkML0101ENSkillsNetwork20718538-2022-01-01\" target=\"_blank\">Joseph Santarcangelo</a>\n",
        "\n",
        "## Change Log\n",
        "\n",
        "| Date (YYYY-MM-DD) | Version | Changed By | Change Description                                  |\n",
        "| ----------------- | ------- | ---------- | --------------------------------------------------- |\n",
        "| 2021-01-11        | 2.2     | Lakshmi    | Changed distance matrix in agglomerative clustering |\n",
        "| 2020-11-03        | 2.1     | Lakshmi    | Updated URL                                         |\n",
        "| 2020-08-27        | 2.0     | Lavanya    | Moved lab to course repo in GitLab                  |\n",
        "\n",
        "## <h3 align=\"center\"> © IBM Corporation 2020. All rights reserved. <h3/>\n"
      ],
      "metadata": {
        "id": "D_iZ9xuyOZAR"
      }
    }
  ]
}